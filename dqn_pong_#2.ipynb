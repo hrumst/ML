{
  "nbformat": 4,
  "nbformat_minor": 0,
  "metadata": {
    "colab": {
      "name": "dqn-pong-#2.ipynb",
      "provenance": [],
      "collapsed_sections": [],
      "include_colab_link": true
    },
    "language_info": {
      "codemirror_mode": {
        "name": "ipython",
        "version": 3
      },
      "file_extension": ".py",
      "mimetype": "text/x-python",
      "name": "python",
      "nbconvert_exporter": "python",
      "pygments_lexer": "ipython3",
      "version": "3.7.1"
    },
    "kernelspec": {
      "name": "python3",
      "display_name": "Python 3"
    },
    "accelerator": "GPU"
  },
  "cells": [
    {
      "cell_type": "markdown",
      "metadata": {
        "id": "view-in-github",
        "colab_type": "text"
      },
      "source": [
        "<a href=\"https://colab.research.google.com/github/hrumst/ML/blob/master/dqn_pong_%232.ipynb\" target=\"_parent\"><img src=\"https://colab.research.google.com/assets/colab-badge.svg\" alt=\"Open In Colab\"/></a>"
      ]
    },
    {
      "cell_type": "code",
      "metadata": {
        "id": "ipwdFHUVB5qG",
        "colab_type": "code",
        "colab": {}
      },
      "source": [
        "import time\n",
        "import random\n",
        "import numpy as np\n",
        "\n",
        "import gym\n",
        "\n",
        "import matplotlib.pyplot as plt\n",
        "%matplotlib inline"
      ],
      "execution_count": 0,
      "outputs": []
    },
    {
      "cell_type": "markdown",
      "metadata": {
        "id": "1WoSzJUgB5qJ",
        "colab_type": "text"
      },
      "source": [
        "## Load GYM environment"
      ]
    },
    {
      "cell_type": "code",
      "metadata": {
        "scrolled": false,
        "id": "RO8UWiE4B5qK",
        "colab_type": "code",
        "outputId": "03ee2dd4-fbb8-4269-b1cf-e3b06fdbb496",
        "colab": {
          "base_uri": "https://localhost:8080/",
          "height": 51
        }
      },
      "source": [
        "env = gym.make('Pong-v0')\n",
        "\n",
        "STATE_SHAPE = env.observation_space.shape\n",
        "NUM_ACTIONS = env.action_space.n\n",
        "\n",
        "print('Actions: {}'.format(NUM_ACTIONS))\n",
        "print('States shape: {}'.format(STATE_SHAPE))"
      ],
      "execution_count": 0,
      "outputs": [
        {
          "output_type": "stream",
          "text": [
            "Actions: 6\n",
            "States shape: (210, 160, 3)\n"
          ],
          "name": "stdout"
        }
      ]
    },
    {
      "cell_type": "code",
      "metadata": {
        "id": "5tcQQwNh7nUZ",
        "colab_type": "code",
        "outputId": "316081ce-3ac2-41e5-8cbe-922c6ad4b8fa",
        "colab": {
          "base_uri": "https://localhost:8080/",
          "height": 170
        }
      },
      "source": [
        "env.__dict__"
      ],
      "execution_count": 0,
      "outputs": [
        {
          "output_type": "execute_result",
          "data": {
            "text/plain": [
              "{'_elapsed_steps': 0,\n",
              " '_episode_started_at': None,\n",
              " '_max_episode_seconds': None,\n",
              " '_max_episode_steps': 10000,\n",
              " 'action_space': Discrete(6),\n",
              " 'env': <gym.envs.atari.atari_env.AtariEnv at 0x7fa3ab4aa198>,\n",
              " 'metadata': {'render.modes': ['human', 'rgb_array']},\n",
              " 'observation_space': Box(210, 160, 3),\n",
              " 'reward_range': (-inf, inf)}"
            ]
          },
          "metadata": {
            "tags": []
          },
          "execution_count": 3
        }
      ]
    },
    {
      "cell_type": "code",
      "metadata": {
        "id": "JNiSdKeo8I4O",
        "colab_type": "code",
        "outputId": "44e34176-c6b9-4de6-f0d6-433e9e625415",
        "colab": {
          "base_uri": "https://localhost:8080/",
          "height": 34
        }
      },
      "source": [
        "env.observation_space.shape[0]"
      ],
      "execution_count": 0,
      "outputs": [
        {
          "output_type": "execute_result",
          "data": {
            "text/plain": [
              "210"
            ]
          },
          "metadata": {
            "tags": []
          },
          "execution_count": 4
        }
      ]
    },
    {
      "cell_type": "markdown",
      "metadata": {
        "id": "cHaEq-ExGjp5",
        "colab_type": "text"
      },
      "source": [
        "## Example of a state"
      ]
    },
    {
      "cell_type": "code",
      "metadata": {
        "id": "nUcBEkqTwWL1",
        "colab_type": "code",
        "colab": {
          "base_uri": "https://localhost:8080/",
          "height": 282
        },
        "outputId": "67088364-fa21-4b1b-e8d1-e1040c32edea"
      },
      "source": [
        "def generate_rand_coef(i, arg_delta, min_num):\n",
        "    y = (arg_delta ** -i) + min_num\n",
        "    return y if y <= 1.0 else 1.0\n",
        "\n",
        "print(generate_rand_coef(100, 1.005, .25))"
      ],
      "execution_count": 35,
      "outputs": [
        {
          "output_type": "display_data",
          "data": {
            "image/png": "[encoded data removed]",
            "text/plain": [
              "<Figure size 432x288 with 1 Axes>"
            ]
          },
          "metadata": {
            "tags": []
          }
        },
        {
          "output_type": "stream",
          "text": [
            "0.8572867761711169\n"
          ],
          "name": "stdout"
        }
      ]
    },
    {
      "cell_type": "code",
      "metadata": {
        "id": "HycCupurCLXM",
        "colab_type": "code",
        "outputId": "c3494588-e2e0-4f51-c379-bc722914216c",
        "colab": {
          "base_uri": "https://localhost:8080/",
          "height": 269
        }
      },
      "source": [
        "s = env.reset()\n",
        "_=plt.imshow(s)"
      ],
      "execution_count": 0,
      "outputs": [
        {
          "output_type": "display_data",
          "data": {
            "image/png": "[encoded data removed]",
            "text/plain": [
              "<Figure size 432x288 with 1 Axes>"
            ]
          },
          "metadata": {
            "tags": []
          }
        }
      ]
    },
    {
      "cell_type": "markdown",
      "metadata": {
        "id": "JUSl-luBMors",
        "colab_type": "text"
      },
      "source": [
        "## DQN"
      ]
    },
    {
      "cell_type": "code",
      "metadata": {
        "id": "aiqA5AZNt1ta",
        "colab_type": "code",
        "colab": {}
      },
      "source": [
        "def q_iteration(env, model, state, iteration, memory):\n",
        "    # Choose epsilon based on the iteration\n",
        "    epsilon = get_epsilon_for_iteration(iteration)\n",
        "\n",
        "    # Choose the action \n",
        "    if random.random() < epsilon:\n",
        "        action = env.action_space.sample()\n",
        "    else:\n",
        "        action = choose_best_action(model, state)\n",
        "\n",
        "    # Play one game iteration (note: according to the next paper, you should actually play 4 times here)\n",
        "    new_frame, reward, is_done, _ = env.step(action)\n",
        "    memory.add(state, action, new_frame, reward, is_done)\n",
        "\n",
        "    # Sample and fit\n",
        "    batch = memory.sample_batch(32)\n",
        "    fit_batch(model, batch)"
      ],
      "execution_count": 0,
      "outputs": []
    },
    {
      "cell_type": "code",
      "metadata": {
        "id": "8IKRRutttJw1",
        "colab_type": "code",
        "colab": {}
      },
      "source": [
        "\n",
        "class RingBuf:\n",
        "    def __init__(self, size):\n",
        "        # Pro-tip: when implementing a ring buffer, always allocate one extra element,\n",
        "        # this way, self.start == self.end always means the buffer is EMPTY, whereas\n",
        "        # if you allocate exactly the right number of elements, it could also mean\n",
        "        # the buffer is full. This greatly simplifies the rest of the code.\n",
        "        self.data = [None] * (size + 1)\n",
        "        self.start = 0\n",
        "        self.end = 0\n",
        "        \n",
        "    def append(self, element):\n",
        "        self.data[self.end] = element\n",
        "        self.end = (self.end + 1) % len(self.data)\n",
        "        # end == start and yet we just added one element. This means the buffer has one\n",
        "        # too many element. Remove the first element by incrementing start.\n",
        "        if self.end == self.start:\n",
        "            self.start = (self.start + 1) % len(self.data)\n",
        "        \n",
        "    def __getitem__(self, idx):\n",
        "        return self.data[(self.start + idx) % len(self.data)]\n",
        "    \n",
        "    def __len__(self):\n",
        "        if self.end < self.start:\n",
        "            return self.end + len(self.data) - self.start\n",
        "        else:\n",
        "            return self.end - self.start\n",
        "        \n",
        "    def __iter__(self):\n",
        "        for i in range(len(self)):\n",
        "            yield self[i]"
      ],
      "execution_count": 0,
      "outputs": []
    },
    {
      "cell_type": "code",
      "metadata": {
        "id": "lMKyAI5GLN1w",
        "colab_type": "code",
        "colab": {}
      },
      "source": [
        "# Train a DQN model here\n",
        "\n",
        "def to_grayscale(img):\n",
        "    return np.mean(img, axis=2).astype(np.uint8)\n",
        "\n",
        "def downsample(img):\n",
        "    return img[::2, ::2]\n",
        "\n",
        "def preprocess(img):\n",
        "    return to_grayscale(downsample(img))\n",
        "\n",
        "# Tools\n",
        "def transform_reward(reward):\n",
        "    return np.sign(reward)\n",
        "\n",
        "def fit_batch(model, gamma, start_states, actions, rewards, next_states, is_terminal)\n",
        "    \"\"\"Do one deep Q learning iteration.\n",
        "    \n",
        "    Params:\n",
        "    - model: The DQN\n",
        "    - gamma: Discount factor (should be 0.99)\n",
        "    - start_states: numpy array of starting states\n",
        "    - actions: numpy array of one-hot encoded actions corresponding to the start states\n",
        "    - rewards: numpy array of rewards corresponding to the start states and actions\n",
        "    - next_states: numpy array of the resulting states corresponding to the start states and actions\n",
        "    - is_terminal: numpy boolean array of whether the resulting state is terminal\n",
        "    \n",
        "    \"\"\"\n",
        "    # First, predict the Q values of the next states. Note how we are passing ones as the mask.\n",
        "    next_Q_values = model.predict([next_states, np.ones(actions.shape)])\n",
        "    # The Q values of the terminal states is 0 by definition, so override them\n",
        "    next_Q_values[is_terminal] = 0\n",
        "    # The Q values of each start state is the reward + gamma * the max next state Q value\n",
        "    Q_values = rewards + gamma * np.max(next_Q_values, axis=1)\n",
        "    # Fit the keras model. Note how we are passing the actions as the mask and multiplying\n",
        "    # the targets by the actions.\n",
        "    model.fit(\n",
        "        [start_states, actions], actions * Q_values[:, None],\n",
        "        nb_epoch=1, batch_size=len(start_states), verbose=0\n",
        "    )\n",
        "\n",
        "\n",
        "def atari_model(n_actions):\n",
        "    # We assume a theano backend here, so the \"channels\" are first.\n",
        "    ATARI_SHAPE = (4, 105, 80)\n",
        "\n",
        "    # With the functional API we need to define the inputs.\n",
        "    frames_input = keras.layers.Input(ATARI_SHAPE, name='frames')\n",
        "    actions_input = keras.layers.Input((n_actions,), name='mask')\n",
        "\n",
        "    # Assuming that the input frames are still encoded from 0 to 255. Transforming to [0, 1].\n",
        "    normalized = keras.layers.Lambda(lambda x: x / 255.0)(frames_input)\n",
        "    \n",
        "    # \"The first hidden layer convolves 16 8×8 filters with stride 4 with the input image and applies a rectifier nonlinearity.\"\n",
        "    conv_1 = keras.layers.convolutional.Convolution2D(\n",
        "        16, 8, 8, subsample=(4, 4), activation='relu'\n",
        "    )(normalized)\n",
        "    # \"The second hidden layer convolves 32 4×4 filters with stride 2, again followed by a rectifier nonlinearity.\"\n",
        "    conv_2 = keras.layers.convolutional.Convolution2D(\n",
        "        32, 4, 4, subsample=(2, 2), activation='relu'\n",
        "    )(conv_1)\n",
        "    # Flattening the second convolutional layer.\n",
        "    conv_flattened = keras.layers.core.Flatten()(conv_2)\n",
        "    # \"The final hidden layer is fully-connected and consists of 256 rectifier units.\"\n",
        "    hidden = keras.layers.Dense(256, activation='relu')(conv_flattened)\n",
        "    # \"The output layer is a fully-connected linear layer with a single output for each valid action.\"\n",
        "    output = keras.layers.Dense(n_actions)(hidden)\n",
        "    # Finally, we multiply the output by the mask!\n",
        "    filtered_output = keras.layers.merge([output, actions_input], mode='mul')\n",
        "\n",
        "    self.model = keras.models.Model(input=[frames_input, actions_input], output=filtered_output)\n",
        "    optimizer = optimizer=keras.optimizers.RMSprop(lr=0.00025, rho=0.95, epsilon=0.01)\n",
        "    self.model.compile(optimizer, loss='mse')"
      ],
      "execution_count": 0,
      "outputs": []
    },
    {
      "cell_type": "markdown",
      "metadata": {
        "id": "IiOBPXjVGnLR",
        "colab_type": "text"
      },
      "source": [
        "## Virtual display and video recording for Colab"
      ]
    },
    {
      "cell_type": "code",
      "metadata": {
        "id": "Kzmt2e5jEbX6",
        "colab_type": "code",
        "outputId": "85deda89-733b-4996-bd94-b13858c99c90",
        "colab": {
          "base_uri": "https://localhost:8080/",
          "height": 34
        }
      },
      "source": [
        "RECORD_VIDEO = True\n",
        "\n",
        "if RECORD_VIDEO:\n",
        "  \n",
        "    !pip install pyvirtualdisplay > /dev/null 2>&1\n",
        "    !apt-get install -y xvfb python-opengl ffmpeg > /dev/null 2>&1\n",
        "\n",
        "    from pyvirtualdisplay import Display\n",
        "    display = Display(visible=0, size=(1400, 900))\n",
        "    display.start()"
      ],
      "execution_count": 0,
      "outputs": [
        {
          "output_type": "stream",
          "text": [
            "xdpyinfo was not found, X start can not be checked! Please install xdpyinfo!\n"
          ],
          "name": "stderr"
        }
      ]
    },
    {
      "cell_type": "markdown",
      "metadata": {
        "id": "4sx3L1j9B5qn",
        "colab_type": "text"
      },
      "source": [
        "## Run simulation"
      ]
    },
    {
      "cell_type": "code",
      "metadata": {
        "id": "GhSeQkSBB5qo",
        "colab_type": "code",
        "colab": {}
      },
      "source": [
        "if RECORD_VIDEO:\n",
        "    from gym.wrappers import Monitor\n",
        "    env_sim = Monitor(env, './video', force=True)\n",
        "else:\n",
        "    env_sim = env\n",
        "\n",
        "state = env_sim.reset()\n",
        "totalReward = 0\n",
        "\n",
        "UP_ACTION = 2\n",
        "DOWN_ACTION = 3\n",
        "\n",
        "for _ in range(1000):\n",
        "    env_sim.render()\n",
        "    \n",
        "    q = model.predict(state)\n",
        "    state, reward, done, _ = env_sim.step(np.argmax(q[0]))\n",
        "    totalReward += reward\n",
        "    if done:        \n",
        "        break\n",
        "    \n",
        "    if not RECORD_VIDEO:\n",
        "        time.sleep(1./30)\n",
        "        \n",
        "env_sim.close()\n",
        "\n",
        "print('Total reward = {}'.format(totalReward))"
      ],
      "execution_count": 0,
      "outputs": []
    },
    {
      "cell_type": "markdown",
      "metadata": {
        "id": "oWteeIo8K2jR",
        "colab_type": "text"
      },
      "source": [
        "## Show the video"
      ]
    },
    {
      "cell_type": "code",
      "metadata": {
        "id": "yEb1-4mhEU0i",
        "colab_type": "code",
        "colab": {}
      },
      "source": [
        "def show_video():\n",
        "    import glob\n",
        "    import io\n",
        "    import base64\n",
        "    from IPython.display import HTML\n",
        "    from IPython import display as ipythondisplay\n",
        "\n",
        "    mp4list = glob.glob('video/*.mp4')\n",
        "    if len(mp4list) > 0:\n",
        "        mp4 = mp4list[0]\n",
        "        video = io.open(mp4, 'r+b').read()\n",
        "        encoded = base64.b64encode(video)\n",
        "        ipythondisplay.display(HTML(data='''<video alt=\"test\" autoplay \n",
        "            loop controls style=\"height: 400px;\">\n",
        "            <source src=\"data:video/mp4;base64,{0}\" type=\"video/mp4\" />\n",
        "            </video>'''.format(encoded.decode('ascii'))))\n",
        "    else: \n",
        "        print(\"Could not find video\")\n",
        "    \n",
        "show_video()"
      ],
      "execution_count": 0,
      "outputs": []
    },
    {
      "cell_type": "code",
      "metadata": {
        "id": "j8eb7loItDM4",
        "colab_type": "code",
        "colab": {}
      },
      "source": [
        ""
      ],
      "execution_count": 0,
      "outputs": []
    }
  ]
}
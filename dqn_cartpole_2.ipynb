{
  "nbformat": 4,
  "nbformat_minor": 0,
  "metadata": {
    "colab": {
      "name": "dqn-cartpole-2.ipynb",
      "provenance": [],
      "collapsed_sections": [],
      "toc_visible": true,
      "include_colab_link": true
    },
    "language_info": {
      "codemirror_mode": {
        "name": "ipython",
        "version": 3
      },
      "file_extension": ".py",
      "mimetype": "text/x-python",
      "name": "python",
      "nbconvert_exporter": "python",
      "pygments_lexer": "ipython3",
      "version": "3.7.1"
    },
    "kernelspec": {
      "name": "python3",
      "display_name": "Python 3"
    },
    "accelerator": "GPU"
  },
  "cells": [
    {
      "cell_type": "markdown",
      "metadata": {
        "id": "view-in-github",
        "colab_type": "text"
      },
      "source": [
        "<a href=\"https://colab.research.google.com/github/hrumst/ML/blob/master/dqn_cartpole_2.ipynb\" target=\"_parent\"><img src=\"https://colab.research.google.com/assets/colab-badge.svg\" alt=\"Open In Colab\"/></a>"
      ]
    },
    {
      "cell_type": "code",
      "metadata": {
        "id": "cnhkXzquJeLH",
        "colab_type": "code",
        "colab": {}
      },
      "source": [
        "import time\n",
        "import random\n",
        "import numpy as np\n",
        "\n",
        "import tensorflow as tf\n",
        "tf.enable_eager_execution()\n",
        "\n",
        "import matplotlib.pyplot as plt\n",
        "%matplotlib inline"
      ],
      "execution_count": 0,
      "outputs": []
    },
    {
      "cell_type": "code",
      "metadata": {
        "id": "JQo0VxuTB0TO",
        "colab_type": "code",
        "colab": {
          "base_uri": "https://localhost:8080/",
          "height": 156
        },
        "outputId": "5792cfb3-0095-4f0a-d4d2-034985996eee"
      },
      "source": [
        "!pip install gym==0.14.0"
      ],
      "execution_count": 2,
      "outputs": [
        {
          "output_type": "stream",
          "text": [
            "Requirement already satisfied: gym==0.14.0 in /usr/local/lib/python3.6/dist-packages (0.14.0)\n",
            "Requirement already satisfied: six in /usr/local/lib/python3.6/dist-packages (from gym==0.14.0) (1.12.0)\n",
            "Requirement already satisfied: pyglet<=1.3.2,>=1.2.0 in /usr/local/lib/python3.6/dist-packages (from gym==0.14.0) (1.3.2)\n",
            "Requirement already satisfied: numpy>=1.10.4 in /usr/local/lib/python3.6/dist-packages (from gym==0.14.0) (1.16.5)\n",
            "Requirement already satisfied: scipy in /usr/local/lib/python3.6/dist-packages (from gym==0.14.0) (1.3.1)\n",
            "Requirement already satisfied: cloudpickle~=1.2.0 in /usr/local/lib/python3.6/dist-packages (from gym==0.14.0) (1.2.2)\n",
            "Requirement already satisfied: future in /usr/local/lib/python3.6/dist-packages (from pyglet<=1.3.2,>=1.2.0->gym==0.14.0) (0.16.0)\n"
          ],
          "name": "stdout"
        }
      ]
    },
    {
      "cell_type": "code",
      "metadata": {
        "id": "u908fK6VCJFE",
        "colab_type": "code",
        "colab": {}
      },
      "source": [
        "import gym"
      ],
      "execution_count": 0,
      "outputs": []
    },
    {
      "cell_type": "markdown",
      "metadata": {
        "id": "9D-t4TtCJeLM",
        "colab_type": "text"
      },
      "source": [
        "## Load GYM environment"
      ]
    },
    {
      "cell_type": "code",
      "metadata": {
        "scrolled": false,
        "id": "Xwdf4vsHJeLN",
        "colab_type": "code",
        "outputId": "6098bac7-45c3-49da-8a21-7b685cfa227d",
        "colab": {
          "base_uri": "https://localhost:8080/",
          "height": 119
        }
      },
      "source": [
        "env = gym.make('CartPole-v0')\n",
        "\n",
        "STATE_LIMITS = env.observation_space\n",
        "NUM_ACTIONS = env.action_space.n\n",
        "\n",
        "print('Actions: {}'.format(NUM_ACTIONS))\n",
        "print('States limits:')\n",
        "for i in range(STATE_LIMITS.shape[0]):\n",
        "    print('[{}, {}]'.format(STATE_LIMITS.low[i], STATE_LIMITS.high[i]))"
      ],
      "execution_count": 7,
      "outputs": [
        {
          "output_type": "stream",
          "text": [
            "Actions: 2\n",
            "States limits:\n",
            "[-4.800000190734863, 4.800000190734863]\n",
            "[-3.4028234663852886e+38, 3.4028234663852886e+38]\n",
            "[-0.41887903213500977, 0.41887903213500977]\n",
            "[-3.4028234663852886e+38, 3.4028234663852886e+38]\n"
          ],
          "name": "stdout"
        }
      ]
    },
    {
      "cell_type": "markdown",
      "metadata": {
        "id": "auU0dXqEJeLQ",
        "colab_type": "text"
      },
      "source": [
        "## Settings"
      ]
    },
    {
      "cell_type": "code",
      "metadata": {
        "id": "kSlPTNohJeLR",
        "colab_type": "code",
        "colab": {}
      },
      "source": [
        "lr = 0.01\n",
        "gamma = 0.95\n",
        "\n",
        "NUM_EPISODES = 2000\n",
        "MAX_STEPS = 100\n",
        "REWARD_AVERAGE_WINDOW = 20"
      ],
      "execution_count": 0,
      "outputs": []
    },
    {
      "cell_type": "markdown",
      "metadata": {
        "id": "AFtnFh9-JeLW",
        "colab_type": "text"
      },
      "source": [
        "## DQN Model"
      ]
    },
    {
      "cell_type": "code",
      "metadata": {
        "id": "SM8c4_EzJeLX",
        "colab_type": "code",
        "colab": {}
      },
      "source": [
        "model = tf.keras.Sequential([\n",
        "    tf.keras.layers.Dense(24, activation=tf.nn.relu),\n",
        "    tf.keras.layers.Dense(24, activation=tf.nn.relu),\n",
        "    tf.keras.layers.Dense(NUM_ACTIONS, activation=None, use_bias=False),\n",
        "])\n",
        "\n",
        "def evalQ(s):\n",
        "    return model(s[None, ...].astype(np.float32)).numpy()[0]"
      ],
      "execution_count": 0,
      "outputs": []
    },
    {
      "cell_type": "markdown",
      "metadata": {
        "id": "l1YFJEqmJeLb",
        "colab_type": "text"
      },
      "source": [
        "## Prepare model for training"
      ]
    },
    {
      "cell_type": "code",
      "metadata": {
        "id": "XDFmNd1SJeLd",
        "colab_type": "code",
        "colab": {}
      },
      "source": [
        "def loss(q1, q2):\n",
        "    return tf.reduce_sum(tf.square(q1 - q2))\n",
        "\n",
        "optimizer = tf.train.GradientDescentOptimizer(learning_rate=lr)\n",
        "model.compile(loss=loss, optimizer=optimizer)\n",
        "\n",
        "pathLenList = []\n",
        "totalRewardList = []\n",
        "totalRewardAverageList = []"
      ],
      "execution_count": 0,
      "outputs": []
    },
    {
      "cell_type": "markdown",
      "metadata": {
        "id": "CjRC50GBJeLg",
        "colab_type": "text"
      },
      "source": [
        "## DQN training"
      ]
    },
    {
      "cell_type": "code",
      "metadata": {
        "id": "PeHAhQmGJeLh",
        "colab_type": "code",
        "outputId": "cd3b5116-a28e-4e2e-babb-98f0db414f99",
        "colab": {
          "base_uri": "https://localhost:8080/",
          "height": 340
        }
      },
      "source": [
        "for i in range(NUM_EPISODES):\n",
        "    \n",
        "    eps = 1./((i/50) + 10)\n",
        "    \n",
        "    s = env.reset()\n",
        "    \n",
        "    totalReward = 0\n",
        "    step = 0\n",
        "    \n",
        "    while step < MAX_STEPS:\n",
        "        step += 1\n",
        "\n",
        "        Q_s = evalQ(s)\n",
        "        \n",
        "        if np.random.rand() < eps:\n",
        "            a = env.action_space.sample()\n",
        "        else:\n",
        "            a = np.argmax(Q_s)\n",
        "\n",
        "        s1, r, done, _ = env.step(a)\n",
        "\n",
        "        Q_s1 = evalQ(s1)\n",
        "        \n",
        "        Q_target = Q_s\n",
        "        if done:\n",
        "            Q_target[a] = r\n",
        "        else:\n",
        "            Q_target[a] = r + gamma * np.max(Q_s1)\n",
        " \n",
        "        model.train_on_batch(s[None, ...].astype(np.float32), Q_target[None, ...])\n",
        "\n",
        "        totalReward += r\n",
        "        s = s1\n",
        "        \n",
        "        if done:\n",
        "            break\n",
        "            \n",
        "    pathLenList.append(step)\n",
        "    totalRewardList.append(totalReward)\n",
        "\n",
        "    if i % REWARD_AVERAGE_WINDOW == 0 and i >= REWARD_AVERAGE_WINDOW:\n",
        "        totalRewardAverage = np.mean(totalRewardList[-REWARD_AVERAGE_WINDOW:])\n",
        "        totalRewardAverageList.append(totalRewardAverage)\n",
        "        if i % 100 == 0:\n",
        "            print('Episode {}: average total reward = {}'.format(i, totalRewardAverage))"
      ],
      "execution_count": 11,
      "outputs": [
        {
          "output_type": "stream",
          "text": [
            "Episode 100: average total reward = 9.7\n",
            "Episode 200: average total reward = 9.7\n",
            "Episode 300: average total reward = 10.0\n",
            "Episode 400: average total reward = 9.5\n",
            "Episode 500: average total reward = 9.35\n",
            "Episode 600: average total reward = 10.0\n",
            "Episode 700: average total reward = 9.7\n",
            "Episode 800: average total reward = 9.5\n",
            "Episode 900: average total reward = 10.15\n",
            "Episode 1000: average total reward = 9.4\n",
            "Episode 1100: average total reward = 9.5\n",
            "Episode 1200: average total reward = 9.2\n",
            "Episode 1300: average total reward = 9.7\n",
            "Episode 1400: average total reward = 9.45\n",
            "Episode 1500: average total reward = 9.45\n",
            "Episode 1600: average total reward = 9.85\n",
            "Episode 1700: average total reward = 9.55\n",
            "Episode 1800: average total reward = 9.35\n",
            "Episode 1900: average total reward = 9.5\n"
          ],
          "name": "stdout"
        }
      ]
    },
    {
      "cell_type": "markdown",
      "metadata": {
        "id": "1Er0TlkRJeLk",
        "colab_type": "text"
      },
      "source": [
        "## Plot trajectory length over time"
      ]
    },
    {
      "cell_type": "code",
      "metadata": {
        "scrolled": true,
        "id": "MMdftxV2JeLl",
        "colab_type": "code",
        "outputId": "ddb836df-62c2-412a-c7c7-b28dda0eb1d2",
        "colab": {
          "base_uri": "https://localhost:8080/",
          "height": 269
        }
      },
      "source": [
        "plt.plot(pathLenList)\n",
        "plt.grid()"
      ],
      "execution_count": 12,
      "outputs": [
        {
          "output_type": "display_data",
          "data": {
            "image/png": "[encoded data removed]",
            "text/plain": [
              "<Figure size 432x288 with 1 Axes>"
            ]
          },
          "metadata": {
            "tags": []
          }
        }
      ]
    },
    {
      "cell_type": "markdown",
      "metadata": {
        "id": "hB10VTaVJeLn",
        "colab_type": "text"
      },
      "source": [
        "## Plot average total reward over time"
      ]
    },
    {
      "cell_type": "code",
      "metadata": {
        "id": "SvdDw66qJeLo",
        "colab_type": "code",
        "outputId": "82981dd7-4d20-44a3-af9c-db0852063e7e",
        "colab": {
          "base_uri": "https://localhost:8080/",
          "height": 269
        }
      },
      "source": [
        "plt.plot(totalRewardAverageList)\n",
        "plt.grid()"
      ],
      "execution_count": 13,
      "outputs": [
        {
          "output_type": "display_data",
          "data": {
            "image/png": "[encoded data removed]",
            "text/plain": [
              "<Figure size 432x288 with 1 Axes>"
            ]
          },
          "metadata": {
            "tags": []
          }
        }
      ]
    },
    {
      "cell_type": "code",
      "metadata": {
        "id": "SjKtnoczJeLr",
        "colab_type": "code",
        "colab": {
          "base_uri": "https://localhost:8080/",
          "height": 34
        },
        "outputId": "f6cbccae-1d28-4a8a-d83c-54641c21b5e0"
      },
      "source": [
        "RECORD_VIDEO = True\n",
        "\n",
        "if RECORD_VIDEO:\n",
        "  \n",
        "    !pip install pyvirtualdisplay > /dev/null 2>&1\n",
        "    !apt-get install -y xvfb python-opengl ffmpeg > /dev/null 2>&1\n",
        "\n",
        "    from pyvirtualdisplay import Display\n",
        "    display = Display(visible=0, size=(1400, 900))\n",
        "    display.start()"
      ],
      "execution_count": 14,
      "outputs": [
        {
          "output_type": "stream",
          "text": [
            "xdpyinfo was not found, X start can not be checked! Please install xdpyinfo!\n"
          ],
          "name": "stderr"
        }
      ]
    },
    {
      "cell_type": "markdown",
      "metadata": {
        "id": "zdasuT4IJeLu",
        "colab_type": "text"
      },
      "source": [
        "## Run simulation"
      ]
    },
    {
      "cell_type": "code",
      "metadata": {
        "id": "55B63PEuJeLv",
        "colab_type": "code",
        "outputId": "3c554ddc-4fde-40dd-de30-7459d52bc6c1",
        "colab": {
          "base_uri": "https://localhost:8080/",
          "height": 34
        }
      },
      "source": [
        "USE_Q = True\n",
        "\n",
        "if RECORD_VIDEO:\n",
        "    from gym.wrappers import Monitor\n",
        "    env_sim = Monitor(env, './video', force=True)\n",
        "else:\n",
        "    env_sim = env\n",
        "    \n",
        "s = env_sim.reset()\n",
        "totalReward = 0\n",
        "\n",
        "for _ in range(1000):\n",
        "    env_sim.render()\n",
        "    if USE_Q:\n",
        "        a = np.argmax(evalQ(s))\n",
        "    else:\n",
        "        a = env_sim.action_space.sample()    \n",
        "    s, r, done, _ = env_sim.step(a)\n",
        "    totalReward += r\n",
        "    if done:\n",
        "        break\n",
        "       \n",
        "    if not RECORD_VIDEO:\n",
        "        time.sleep(1./30)\n",
        "        \n",
        "env_sim.close()\n",
        "\n",
        "print('Total reward = {}'.format(totalReward))"
      ],
      "execution_count": 15,
      "outputs": [
        {
          "output_type": "stream",
          "text": [
            "Total reward = 10.0\n"
          ],
          "name": "stdout"
        }
      ]
    },
    {
      "cell_type": "markdown",
      "metadata": {
        "id": "lNE57fAVMbkf",
        "colab_type": "text"
      },
      "source": [
        "## Show the video"
      ]
    },
    {
      "cell_type": "code",
      "metadata": {
        "id": "8aTM0iwhJtl4",
        "colab_type": "code",
        "colab": {
          "base_uri": "https://localhost:8080/",
          "height": 441
        },
        "outputId": "c3dbb4a6-9ecb-458a-a557-d81a9b00e1e9"
      },
      "source": [
        "def show_video():\n",
        "    import glob\n",
        "    import io\n",
        "    import base64\n",
        "    from IPython.display import HTML\n",
        "    from IPython import display as ipythondisplay\n",
        "\n",
        "    mp4list = glob.glob('video/*.mp4')\n",
        "    if len(mp4list) > 0:\n",
        "        mp4 = mp4list[0]\n",
        "        video = io.open(mp4, 'r+b').read()\n",
        "        encoded = base64.b64encode(video)\n",
        "        ipythondisplay.display(HTML(data='''<video alt=\"test\" autoplay \n",
        "            loop controls style=\"height: 400px;\">\n",
        "            <source src=\"data:video/mp4;base64,{0}\" type=\"video/mp4\" />\n",
        "            </video>'''.format(encoded.decode('ascii'))))\n",
        "    else: \n",
        "        print(\"Could not find video\")\n",
        "    \n",
        "show_video()"
      ],
      "execution_count": 16,
      "outputs": [
        {
          "output_type": "display_data",
          "data": {
            "text/html": [
              "<video alt=\"test\" autoplay \n",
              "            loop controls style=\"height: 400px;\">\n",
              "            <source src=\"data:video/mp4;base64,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\" type=\"video/mp4\" />\n",
              "            </video>"
            ],
            "text/plain": [
              "<IPython.core.display.HTML object>"
            ]
          },
          "metadata": {
            "tags": []
          }
        }
      ]
    }
  ]
}
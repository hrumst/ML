{
  "nbformat": 4,
  "nbformat_minor": 0,
  "metadata": {
    "colab": {
      "name": "module_7_competition.ipynb",
      "provenance": [],
      "private_outputs": true,
      "include_colab_link": true
    },
    "kernelspec": {
      "name": "python3",
      "display_name": "Python 3"
    },
    "accelerator": "GPU"
  },
  "cells": [
    {
      "cell_type": "markdown",
      "metadata": {
        "id": "view-in-github",
        "colab_type": "text"
      },
      "source": [
        "<a href=\"https://colab.research.google.com/github/hrumst/ML/blob/master/module_7_competition.ipynb\" target=\"_parent\"><img src=\"https://colab.research.google.com/assets/colab-badge.svg\" alt=\"Open In Colab\"/></a>"
      ]
    },
    {
      "cell_type": "markdown",
      "metadata": {
        "id": "s-6hMKJs49yh",
        "colab_type": "text"
      },
      "source": [
        "Строим deep lab v3+ !\n",
        "https://github.com/bonlime/keras-deeplab-v3-plus"
      ]
    },
    {
      "cell_type": "code",
      "metadata": {
        "id": "kf3hCmsz8Wj2",
        "colab_type": "code",
        "colab": {}
      },
      "source": [
        "%config IPComplater.greedy = True"
      ],
      "execution_count": 0,
      "outputs": []
    },
    {
      "cell_type": "code",
      "metadata": {
        "id": "cUSpzY6R7xhe",
        "colab_type": "code",
        "colab": {}
      },
      "source": [
        "!wget http://images.cocodataset.org/zips/train2017.zip  "
      ],
      "execution_count": 0,
      "outputs": []
    },
    {
      "cell_type": "code",
      "metadata": {
        "id": "T5Wj4NUj8cMw",
        "colab_type": "code",
        "colab": {}
      },
      "source": [
        "mkdir train2017 && unzip \"./train2017.zip\" -d train2017"
      ],
      "execution_count": 0,
      "outputs": []
    },
    {
      "cell_type": "code",
      "metadata": {
        "id": "ZzloqNMR8xxG",
        "colab_type": "code",
        "colab": {}
      },
      "source": [
        "from google.colab import drive\n",
        "\n",
        "DRIVE_MOUNT = './DRIVE/'\n",
        "DRIVE_MOUNT_SAVE_MODEL_PATH = 'My Drive/Colab Notebooks/competition_7/brand-logo-detection-dataset.zip'\n",
        "drive.mount(DRIVE_MOUNT, force_remount=True)"
      ],
      "execution_count": 0,
      "outputs": []
    },
    {
      "cell_type": "code",
      "metadata": {
        "id": "Up7Hl7y1AFb7",
        "colab_type": "code",
        "colab": {}
      },
      "source": [
        "!cp -r ./train2017 ./DRIVE/My\\ Drive/competition_7/coco"
      ],
      "execution_count": 0,
      "outputs": []
    },
    {
      "cell_type": "code",
      "metadata": {
        "id": "f6xPj7Kv8muy",
        "colab_type": "code",
        "colab": {}
      },
      "source": [
        "from matplotlib import pyplot as plt\n",
        "import numpy as np\n",
        "import pandas as pd\n",
        "from PIL import Image\n",
        "import cv2\n",
        "from tqdm import tqdm_notebook\n",
        "\n",
        "print('Пример картинки')\n",
        "plt.figure(figsize=(15,10))\n",
        "img = cv2.imread(\"./DRIVE/My Drive/competition_7/coco/train2017/train2017/000000281563.jpg\")\n",
        "label = cv2.imread(\"./DRIVE/My Drive/competition_7/coco/train2017/train2017/000000281563.png\")\n",
        "# changing to the BGR format of OpenCV to RGB format for matplotlib\n",
        "plt.subplot(1,3, 1)\n",
        "plt.imshow(img[:,:,::-1])\n",
        "plt.title(\"Image\")\n",
        "plt.subplot(1,3, 2)\n",
        "plt.imshow(label)\n",
        "plt.title(\"Label\")\n",
        "dst = cv2.addWeighted(img,0.3,label,0.8,0)\n",
        "plt.subplot(1,3, 3)\n",
        "plt.imshow(dst[:,:,::-1])\n",
        "plt.title(\"Blending\")\n",
        "plt.show()"
      ],
      "execution_count": 0,
      "outputs": []
    },
    {
      "cell_type": "code",
      "metadata": {
        "id": "_u8WlcssFD-n",
        "colab_type": "code",
        "colab": {}
      },
      "source": [
        "import sys\n",
        "sys.path.insert(0, './DRIVE/My Drive/competition_7/deeplab_v3_plus')"
      ],
      "execution_count": 0,
      "outputs": []
    },
    {
      "cell_type": "code",
      "metadata": {
        "id": "k8vEKpMTGxng",
        "colab_type": "code",
        "colab": {}
      },
      "source": [
        "\n",
        "from model import Deeplabv3\n",
        "deeplab_model = Deeplabv3(input_shape=(384, 384, 3), classes=4) "
      ],
      "execution_count": 0,
      "outputs": []
    },
    {
      "cell_type": "code",
      "metadata": {
        "id": "Ww_otxqM4q8U",
        "colab_type": "code",
        "colab": {}
      },
      "source": [
        "import numpy as np\n",
        "from PIL import Image\n",
        "from matplotlib import pyplot as plt\n",
        "\n",
        "from model import Deeplabv3\n",
        "\n",
        "# Generates labels using most basic setup.  Supports various image sizes.  Returns image labels in same format\n",
        "# as original image.  Normalization matches MobileNetV2\n",
        "\n",
        "trained_image_width=512 \n",
        "mean_subtraction_value=127.5\n",
        "image = np.array(Image.open('imgs/image1.jpg'))\n",
        "\n",
        "# resize to max dimension of images from training dataset\n",
        "w, h, _ = image.shape\n",
        "ratio = float(trained_image_width) / np.max([w, h])\n",
        "resized_image = np.array(Image.fromarray(image.astype('uint8')).resize((int(ratio * h), int(ratio * w))))\n",
        "\n",
        "# apply normalization for trained dataset images\n",
        "resized_image = (resized_image / mean_subtraction_value) - 1.\n",
        "\n",
        "# pad array to square image to match training images\n",
        "pad_x = int(trained_image_width - resized_image.shape[0])\n",
        "pad_y = int(trained_image_width - resized_image.shape[1])\n",
        "resized_image = np.pad(resized_image, ((0, pad_x), (0, pad_y), (0, 0)), mode='constant')\n",
        "\n",
        "# make prediction\n",
        "deeplab_model = Deeplabv3()\n",
        "res = deeplab_model.predict(np.expand_dims(resized_image, 0))\n",
        "labels = np.argmax(res.squeeze(), -1)\n",
        "\n",
        "# remove padding and resize back to original image\n",
        "if pad_x > 0:\n",
        "    labels = labels[:-pad_x]\n",
        "if pad_y > 0:\n",
        "    labels = labels[:, :-pad_y]\n",
        "labels = np.array(Image.fromarray(labels.astype('uint8')).resize((h, w)))\n",
        "\n",
        "plt.imshow(labels)\n",
        "plt.waitforbuttonpress()"
      ],
      "execution_count": 0,
      "outputs": []
    }
  ]
}
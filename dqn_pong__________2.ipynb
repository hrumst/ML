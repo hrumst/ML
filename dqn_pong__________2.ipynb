{
  "nbformat": 4,
  "nbformat_minor": 0,
  "metadata": {
    "colab": {
      "name": "dqn-pong-#2.ipynb",
      "provenance": [],
      "collapsed_sections": [],
      "include_colab_link": true
    },
    "language_info": {
      "codemirror_mode": {
        "name": "ipython",
        "version": 3
      },
      "file_extension": ".py",
      "mimetype": "text/x-python",
      "name": "python",
      "nbconvert_exporter": "python",
      "pygments_lexer": "ipython3",
      "version": "3.7.1"
    },
    "kernelspec": {
      "name": "python3",
      "display_name": "Python 3"
    },
    "accelerator": "GPU"
  },
  "cells": [
    {
      "cell_type": "markdown",
      "metadata": {
        "id": "view-in-github",
        "colab_type": "text"
      },
      "source": [
        "<a href=\"https://colab.research.google.com/github/hrumst/ML/blob/master/dqn_pong__________2.ipynb\" target=\"_parent\"><img src=\"https://colab.research.google.com/assets/colab-badge.svg\" alt=\"Open In Colab\"/></a>"
      ]
    },
    {
      "cell_type": "code",
      "metadata": {
        "id": "ipwdFHUVB5qG",
        "colab_type": "code",
        "outputId": "50b13f05-7c68-4318-fcd0-3024e95befc5",
        "colab": {
          "base_uri": "https://localhost:8080/",
          "height": 34
        }
      },
      "source": [
        "import time\n",
        "import random\n",
        "import numpy as np\n",
        "\n",
        "import gym\n",
        "\n",
        "import matplotlib.pyplot as plt\n",
        "%matplotlib inline\n",
        "\n",
        "gym.__version__"
      ],
      "execution_count": 4,
      "outputs": [
        {
          "output_type": "execute_result",
          "data": {
            "text/plain": [
              "'0.15.4'"
            ]
          },
          "metadata": {
            "tags": []
          },
          "execution_count": 4
        }
      ]
    },
    {
      "cell_type": "markdown",
      "metadata": {
        "id": "1WoSzJUgB5qJ",
        "colab_type": "text"
      },
      "source": [
        "## Load GYM environment"
      ]
    },
    {
      "cell_type": "code",
      "metadata": {
        "scrolled": false,
        "id": "RO8UWiE4B5qK",
        "colab_type": "code",
        "outputId": "525d1e63-daeb-447b-a0d3-d7f3aff55b15",
        "colab": {
          "base_uri": "https://localhost:8080/",
          "height": 51
        }
      },
      "source": [
        "env = gym.make('Pong-v0')\n",
        "\n",
        "STATE_SHAPE = env.observation_space.shape\n",
        "NUM_ACTIONS = env.action_space.n\n",
        "\n",
        "print('Actions: {}'.format(NUM_ACTIONS))\n",
        "print('States shape: {}'.format(STATE_SHAPE))"
      ],
      "execution_count": 5,
      "outputs": [
        {
          "output_type": "stream",
          "text": [
            "Actions: 6\n",
            "States shape: (210, 160, 3)\n"
          ],
          "name": "stdout"
        }
      ]
    },
    {
      "cell_type": "code",
      "metadata": {
        "id": "5tcQQwNh7nUZ",
        "colab_type": "code",
        "outputId": "04729ada-b5c5-47b3-bc27-88adc73f7bdb",
        "colab": {
          "base_uri": "https://localhost:8080/",
          "height": 136
        }
      },
      "source": [
        "env.__dict__"
      ],
      "execution_count": 6,
      "outputs": [
        {
          "output_type": "execute_result",
          "data": {
            "text/plain": [
              "{'_elapsed_steps': None,\n",
              " '_max_episode_steps': 10000,\n",
              " 'action_space': Discrete(6),\n",
              " 'env': <gym.envs.atari.atari_env.AtariEnv at 0x7fe7e6404d30>,\n",
              " 'metadata': {'render.modes': ['human', 'rgb_array']},\n",
              " 'observation_space': Box(210, 160, 3),\n",
              " 'reward_range': (-inf, inf)}"
            ]
          },
          "metadata": {
            "tags": []
          },
          "execution_count": 6
        }
      ]
    },
    {
      "cell_type": "code",
      "metadata": {
        "id": "JNiSdKeo8I4O",
        "colab_type": "code",
        "outputId": "bab7a3fd-48ba-4ac1-d45e-4701afdf7a6e",
        "colab": {
          "base_uri": "https://localhost:8080/",
          "height": 34
        }
      },
      "source": [
        "env.observation_space.shape[0]"
      ],
      "execution_count": 7,
      "outputs": [
        {
          "output_type": "execute_result",
          "data": {
            "text/plain": [
              "210"
            ]
          },
          "metadata": {
            "tags": []
          },
          "execution_count": 7
        }
      ]
    },
    {
      "cell_type": "markdown",
      "metadata": {
        "id": "cHaEq-ExGjp5",
        "colab_type": "text"
      },
      "source": [
        "## Example of a state"
      ]
    },
    {
      "cell_type": "code",
      "metadata": {
        "id": "nUcBEkqTwWL1",
        "colab_type": "code",
        "outputId": "b69cc6ef-ccb1-4292-c33e-baa0192f7a78",
        "colab": {
          "base_uri": "https://localhost:8080/",
          "height": 34
        }
      },
      "source": [
        "def epsilon_factory(arg_delta, min_num):\n",
        "    def get_epsilon_for_iteration(i):\n",
        "        y = (arg_delta ** -i) + min_num\n",
        "        return y if y <= 1.0 else 1.0\n",
        "    return get_epsilon_for_iteration\n",
        "\n",
        "epsilon_factory(1.005, .25)(100)"
      ],
      "execution_count": 8,
      "outputs": [
        {
          "output_type": "execute_result",
          "data": {
            "text/plain": [
              "0.8572867761711169"
            ]
          },
          "metadata": {
            "tags": []
          },
          "execution_count": 8
        }
      ]
    },
    {
      "cell_type": "code",
      "metadata": {
        "id": "HycCupurCLXM",
        "colab_type": "code",
        "outputId": "117ddffc-9462-4a3e-cbf8-3fbf2ef97b89",
        "colab": {
          "base_uri": "https://localhost:8080/",
          "height": 269
        }
      },
      "source": [
        "s = env.reset()\n",
        "_=plt.imshow(s)"
      ],
      "execution_count": 9,
      "outputs": [
        {
          "output_type": "display_data",
          "data": {
            "image/png": "[encoded data removed]",
            "text/plain": [
              "<Figure size 432x288 with 1 Axes>"
            ]
          },
          "metadata": {
            "tags": []
          }
        }
      ]
    },
    {
      "cell_type": "markdown",
      "metadata": {
        "id": "JUSl-luBMors",
        "colab_type": "text"
      },
      "source": [
        "## DQN"
      ]
    },
    {
      "cell_type": "code",
      "metadata": {
        "id": "nEaVg2BuD0Mh",
        "colab_type": "code",
        "colab": {}
      },
      "source": [
        "# Train a DQN model here\n",
        "\n",
        "def to_grayscale(img):\n",
        "    return np.mean(img, axis=2).astype(np.uint8)\n",
        "\n",
        "def downsample(img):\n",
        "    return img[::2, ::2]\n",
        "\n",
        "def preprocess(img):\n",
        "    return to_grayscale(downsample(img)).reshape(105,80,1)"
      ],
      "execution_count": 0,
      "outputs": []
    },
    {
      "cell_type": "code",
      "metadata": {
        "id": "ZhAMpnBPAZHl",
        "colab_type": "code",
        "outputId": "e20941d0-7a31-4940-9e6a-c77f82c13acb",
        "colab": {
          "base_uri": "https://localhost:8080/",
          "height": 34
        }
      },
      "source": [
        "# env.reset()\n",
        "# env.render()\n",
        "# env.step(env.action_space.sample())\n",
        "state = env.step(2)[0]\n",
        "state.shape"
      ],
      "execution_count": 11,
      "outputs": [
        {
          "output_type": "execute_result",
          "data": {
            "text/plain": [
              "(210, 160, 3)"
            ]
          },
          "metadata": {
            "tags": []
          },
          "execution_count": 11
        }
      ]
    },
    {
      "cell_type": "code",
      "metadata": {
        "id": "q19OOSZDDj4i",
        "colab_type": "code",
        "outputId": "3d162972-a7f0-416a-d2d3-860053d43d85",
        "colab": {
          "base_uri": "https://localhost:8080/",
          "height": 34
        }
      },
      "source": [
        "state = preprocess(state)\n",
        "state.shape"
      ],
      "execution_count": 12,
      "outputs": [
        {
          "output_type": "execute_result",
          "data": {
            "text/plain": [
              "(105, 80, 1)"
            ]
          },
          "metadata": {
            "tags": []
          },
          "execution_count": 12
        }
      ]
    },
    {
      "cell_type": "code",
      "metadata": {
        "id": "bUmtDO5zM5KG",
        "colab_type": "code",
        "outputId": "9c2cb2c6-ef98-4eab-c844-69f45e1f611e",
        "colab": {
          "base_uri": "https://localhost:8080/",
          "height": 34
        }
      },
      "source": [
        "stateA = state\n",
        "a = stateA\n",
        "a = np.append(a, stateA, axis=2)\n",
        "a = np.append(a, stateA, axis=2)\n",
        "a = np.append(a, stateA, axis=2)\n",
        "a.shape"
      ],
      "execution_count": 13,
      "outputs": [
        {
          "output_type": "execute_result",
          "data": {
            "text/plain": [
              "(105, 80, 4)"
            ]
          },
          "metadata": {
            "tags": []
          },
          "execution_count": 13
        }
      ]
    },
    {
      "cell_type": "code",
      "metadata": {
        "id": "cAea9vmpiwzw",
        "colab_type": "code",
        "colab": {}
      },
      "source": [
        "UP_ACTION = 2\n",
        "DOWN_ACTION = 3\n",
        "ACTIONS_TYPES = np.array([UP_ACTION, DOWN_ACTION])"
      ],
      "execution_count": 0,
      "outputs": []
    },
    {
      "cell_type": "code",
      "metadata": {
        "id": "kAg6k47P9G1r",
        "colab_type": "code",
        "outputId": "020484e5-8bfd-45a5-965b-74583e5f415b",
        "colab": {
          "base_uri": "https://localhost:8080/",
          "height": 491
        }
      },
      "source": [
        "import keras\n",
        "from keras.layers import Input, Lambda, Dense, Multiply, Conv2D\n",
        "from keras.layers.convolutional import Convolution2D\n",
        "from keras.layers.core import Flatten\n",
        "from keras.models import Model\n",
        "\n",
        "def atari_model(n_actions):\n",
        "    ATARI_SHAPE = (105, 80, 4)\n",
        "\n",
        "    # With the functional API we need to define the inputs.\n",
        "    frames_input = keras.layers.Input(ATARI_SHAPE, name='frames')\n",
        "    actions_input = keras.layers.Input((n_actions,), name='mask')\n",
        "\n",
        "    # Assuming that the input frames are still encoded from 0 to 255. Transforming to [0, 1].\n",
        "    normalized = keras.layers.Lambda(lambda x: x / 255.0)(frames_input)\n",
        "    \n",
        "    # \"The first hidden layer convolves 16 8×8 filters with stride 4 with the input image and applies a rectifier nonlinearity.\"\n",
        "    conv_1 = Conv2D(16, (4, 4), subsample=(4, 4), activation='relu', name='conv_1')(normalized)\n",
        "    # \"The second hidden layer convolves 32 4×4 filters with stride 2, again followed by a rectifier nonlinearity.\"\n",
        "    conv_2 = Conv2D(32, (2, 2), activation='relu', name='conv_2')(conv_1)\n",
        "    # Flattening the second convolutional layer.\n",
        "    conv_flattened = keras.layers.core.Flatten()(conv_2)\n",
        "    # \"The final hidden layer is fully-connected and consists of 256 rectifier units.\"\n",
        "    hidden = keras.layers.Dense(256, activation='relu')(conv_flattened)\n",
        "    # \"The output layer is a fully-connected linear layer with a single output for each valid action.\"\n",
        "    output = keras.layers.Dense(n_actions)(hidden)\n",
        "    # Finally, we multiply the output by the mask!\n",
        "    filtered_output = Multiply()([output, actions_input])\n",
        "\n",
        "    model = keras.models.Model(input=[frames_input, actions_input], output=filtered_output)\n",
        "    optimizer = optimizer=keras.optimizers.RMSprop(lr=0.00025, rho=0.95, epsilon=0.01)\n",
        "    model.compile(optimizer, loss='mse')\n",
        "\n",
        "    return model\n",
        "\n",
        "def q_eval(model, frames_input):\n",
        "    p_result = model.predict([[frames_input], [np.ones(ACTIONS_TYPES.shape)]])\n",
        "    return p_result\n",
        "\n",
        "model = atari_model(2)\n",
        "q_eval(model, a)"
      ],
      "execution_count": 15,
      "outputs": [
        {
          "output_type": "stream",
          "text": [
            "Using TensorFlow backend.\n"
          ],
          "name": "stderr"
        },
        {
          "output_type": "display_data",
          "data": {
            "text/html": [
              "<p style=\"color: red;\">\n",
              "The default version of TensorFlow in Colab will soon switch to TensorFlow 2.x.<br>\n",
              "We recommend you <a href=\"https://www.tensorflow.org/guide/migrate\" target=\"_blank\">upgrade</a> now \n",
              "or ensure your notebook will continue to use TensorFlow 1.x via the <code>%tensorflow_version 1.x</code> magic:\n",
              "<a href=\"https://colab.research.google.com/notebooks/tensorflow_version.ipynb\" target=\"_blank\">more info</a>.</p>\n"
            ],
            "text/plain": [
              "<IPython.core.display.HTML object>"
            ]
          },
          "metadata": {
            "tags": []
          }
        },
        {
          "output_type": "stream",
          "text": [
            "WARNING:tensorflow:From /usr/local/lib/python3.6/dist-packages/keras/backend/tensorflow_backend.py:541: The name tf.placeholder is deprecated. Please use tf.compat.v1.placeholder instead.\n",
            "\n",
            "WARNING:tensorflow:From /usr/local/lib/python3.6/dist-packages/keras/backend/tensorflow_backend.py:66: The name tf.get_default_graph is deprecated. Please use tf.compat.v1.get_default_graph instead.\n",
            "\n",
            "WARNING:tensorflow:From /usr/local/lib/python3.6/dist-packages/keras/backend/tensorflow_backend.py:4432: The name tf.random_uniform is deprecated. Please use tf.random.uniform instead.\n",
            "\n",
            "WARNING:tensorflow:From /usr/local/lib/python3.6/dist-packages/keras/optimizers.py:793: The name tf.train.Optimizer is deprecated. Please use tf.compat.v1.train.Optimizer instead.\n",
            "\n",
            "WARNING:tensorflow:From /usr/local/lib/python3.6/dist-packages/keras/backend/tensorflow_backend.py:3005: The name tf.Session is deprecated. Please use tf.compat.v1.Session instead.\n",
            "\n",
            "WARNING:tensorflow:From /usr/local/lib/python3.6/dist-packages/keras/backend/tensorflow_backend.py:190: The name tf.get_default_session is deprecated. Please use tf.compat.v1.get_default_session instead.\n",
            "\n",
            "WARNING:tensorflow:From /usr/local/lib/python3.6/dist-packages/keras/backend/tensorflow_backend.py:197: The name tf.ConfigProto is deprecated. Please use tf.compat.v1.ConfigProto instead.\n",
            "\n"
          ],
          "name": "stdout"
        },
        {
          "output_type": "stream",
          "text": [
            "/usr/local/lib/python3.6/dist-packages/ipykernel_launcher.py:18: UserWarning: Update your `Conv2D` call to the Keras 2 API: `Conv2D(16, (4, 4), activation=\"relu\", name=\"conv_1\", strides=(4, 4))`\n",
            "/usr/local/lib/python3.6/dist-packages/ipykernel_launcher.py:30: UserWarning: Update your `Model` call to the Keras 2 API: `Model(inputs=[<tf.Tenso..., outputs=Tensor(\"mu...)`\n"
          ],
          "name": "stderr"
        },
        {
          "output_type": "stream",
          "text": [
            "WARNING:tensorflow:From /usr/local/lib/python3.6/dist-packages/keras/backend/tensorflow_backend.py:207: The name tf.global_variables is deprecated. Please use tf.compat.v1.global_variables instead.\n",
            "\n",
            "WARNING:tensorflow:From /usr/local/lib/python3.6/dist-packages/keras/backend/tensorflow_backend.py:216: The name tf.is_variable_initialized is deprecated. Please use tf.compat.v1.is_variable_initialized instead.\n",
            "\n",
            "WARNING:tensorflow:From /usr/local/lib/python3.6/dist-packages/keras/backend/tensorflow_backend.py:223: The name tf.variables_initializer is deprecated. Please use tf.compat.v1.variables_initializer instead.\n",
            "\n"
          ],
          "name": "stdout"
        },
        {
          "output_type": "execute_result",
          "data": {
            "text/plain": [
              "array([[ 0.02360001, -0.10172635]], dtype=float32)"
            ]
          },
          "metadata": {
            "tags": []
          },
          "execution_count": 15
        }
      ]
    },
    {
      "cell_type": "code",
      "metadata": {
        "id": "8IKRRutttJw1",
        "colab_type": "code",
        "colab": {}
      },
      "source": [
        "\n",
        "class RingBuf:\n",
        "    def __init__(self):\n",
        "        # Pro-tip: when implementing a ring buffer, always allocate one extra element,\n",
        "        # this way, self.start == self.end always means the buffer is EMPTY, whereas\n",
        "        # if you allocate exactly the right number of elements, it could also mean\n",
        "        # the buffer is full. This greatly simplifies the rest of the code.\n",
        "        self.data = []\n",
        "        self.start = 0\n",
        "        self.end = 0\n",
        "        \n",
        "    def append(self, element):\n",
        "        self.data.append(element)\n",
        "\n",
        "    def sample_batch(self, size):\n",
        "        if len(self.data) < size:\n",
        "            return self.data\n",
        "        limit = random.randint(0, len(self.data) - size)\n",
        "        return self.data[limit:limit+size]\n",
        "        \n",
        "    def __getitem__(self, idx):\n",
        "        return self.data[(self.start + idx) % len(self.data)]\n",
        "    \n",
        "    def __len__(self):\n",
        "        if self.end < self.start:\n",
        "            return self.end + len(self.data) - self.start\n",
        "        else:\n",
        "            return self.end - self.start\n",
        "        \n",
        "    def __iter__(self):\n",
        "        for i in range(len(self)):\n",
        "            yield self[i]\n",
        "\n",
        "# rbf = RingBuf(40)\n",
        "# for i in range(40):\n",
        "#     rbf.append((1,2,3))\n",
        "#     print(rbf.sample_batch(32))\n"
      ],
      "execution_count": 0,
      "outputs": []
    },
    {
      "cell_type": "code",
      "metadata": {
        "id": "lMKyAI5GLN1w",
        "colab_type": "code",
        "outputId": "988eeaea-9f23-4e86-81a9-27deff62be59",
        "colab": {
          "base_uri": "https://localhost:8080/",
          "height": 718
        }
      },
      "source": [
        "# need fix memory buffers\n",
        "def q_iteration(env, model, init_states, iteration, memory, get_epsilon_for_iteration):\n",
        "    # Choose epsilon based on the iteration\n",
        "    epsilon = get_epsilon_for_iteration(iteration)\n",
        "\n",
        "    # Choose the action \n",
        "    if random.random() < epsilon:\n",
        "        action = np.random.choice([2, 3])\n",
        "    else:\n",
        "        action = ACTIONS_TYPES[np.argmax(q_eval(model, init_states))]\n",
        "\n",
        "    # Form new state\n",
        "    new_state, reward, is_done, _ = env.step(action)\n",
        "    new_state = preprocess(new_state)\n",
        "    new_states = np.delete(init_states, 0, axis=2)\n",
        "    new_states = np.append(new_states, new_state, axis=2)\n",
        "    memory.append((init_states, action, new_states, reward, is_done))\n",
        "\n",
        "    # Sample and fit\n",
        "    batch = memory.sample_batch(16)\n",
        "    for batch_item in batch:\n",
        "        fit_batch(model, batch_item, .9)\n",
        "\n",
        "    return (new_state, reward)\n",
        "\n",
        "def fit_batch(model, batch_item, gamma):\n",
        "    (init_states, action, new_states, reward, is_done) = batch_item\n",
        "    next_Q_values = q_eval(model, init_states)\n",
        "   \n",
        "    targets = np.zeros(2)\n",
        "    maxQi = np.argmax(next_Q_values)\n",
        "    targets[maxQi] = reward + gamma * next_Q_values[0][maxQi]\n",
        "    model.fit([[new_states], [np.ones(ACTIONS_TYPES.shape)]], [[targets]], epochs=10, verbose=0)\n",
        "\n",
        "def q_init(env, memory):\n",
        "    state = preprocess(env.reset())\n",
        "    init_states = state\n",
        "    action = env.action_space.sample()\n",
        "    for i in range(4):\n",
        "        action = env.action_space.sample()\n",
        "        new_state, reward, is_done, _ = env.step(action)\n",
        "        new_state = preprocess(new_state)\n",
        "        init_states = np.append(init_states, new_state, axis=2)\n",
        "        state = new_state\n",
        "\n",
        "    mem_init_states = np.delete(init_states, 4, axis=2)\n",
        "    mem_new_states = np.delete(init_states, 0, axis=2)\n",
        "    memory.append((mem_init_states, action, mem_new_states, 0, False))\n",
        "    return mem_init_states\n",
        "\n",
        "\n",
        "memory = RingBuf()\n",
        "get_epsilon_for_iteration = epsilon_factory(1.005, .25)\n",
        "total_reward = 0\n",
        "model = atari_model(2)\n",
        "\n",
        "states = q_init(env, memory)\n",
        "for i in range(5000):\n",
        "    q_result = q_iteration(env, model, states, i, memory, get_epsilon_for_iteration)\n",
        "    states = np.delete(states, 0, axis=2)\n",
        "    states = np.append(states, q_result[0], axis=2)\n",
        "\n",
        "    total_reward += q_result[1]\n",
        "\n",
        "    if i % 50 == 0:\n",
        "        print(i, ',', total_reward)"
      ],
      "execution_count": 26,
      "outputs": [
        {
          "output_type": "stream",
          "text": [
            "/usr/local/lib/python3.6/dist-packages/ipykernel_launcher.py:18: UserWarning: Update your `Conv2D` call to the Keras 2 API: `Conv2D(16, (4, 4), activation=\"relu\", name=\"conv_1\", strides=(4, 4))`\n",
            "/usr/local/lib/python3.6/dist-packages/ipykernel_launcher.py:30: UserWarning: Update your `Model` call to the Keras 2 API: `Model(inputs=[<tf.Tenso..., outputs=Tensor(\"mu...)`\n"
          ],
          "name": "stderr"
        },
        {
          "output_type": "stream",
          "text": [
            "0 , 0.0\n",
            "50 , 0.0\n",
            "100 , 0.0\n",
            "150 , 0.0\n",
            "200 , -1.0\n",
            "250 , -2.0\n",
            "300 , -3.0\n",
            "350 , -3.0\n",
            "400 , -4.0\n",
            "450 , -5.0\n",
            "500 , -6.0\n",
            "550 , -7.0\n",
            "600 , -8.0\n",
            "650 , -9.0\n",
            "700 , -10.0\n",
            "750 , -11.0\n",
            "800 , -13.0\n"
          ],
          "name": "stdout"
        },
        {
          "output_type": "error",
          "ename": "KeyboardInterrupt",
          "evalue": "ignored",
          "traceback": [
            "\u001b[0;31m---------------------------------------------------------------------------\u001b[0m",
            "\u001b[0;31mKeyboardInterrupt\u001b[0m                         Traceback (most recent call last)",
            "\u001b[0;32m<ipython-input-26-293043c7f0a0>\u001b[0m in \u001b[0;36m<module>\u001b[0;34m()\u001b[0m\n\u001b[1;32m     56\u001b[0m \u001b[0mstates\u001b[0m \u001b[0;34m=\u001b[0m \u001b[0mq_init\u001b[0m\u001b[0;34m(\u001b[0m\u001b[0menv\u001b[0m\u001b[0;34m,\u001b[0m \u001b[0mmemory\u001b[0m\u001b[0;34m)\u001b[0m\u001b[0;34m\u001b[0m\u001b[0;34m\u001b[0m\u001b[0m\n\u001b[1;32m     57\u001b[0m \u001b[0;32mfor\u001b[0m \u001b[0mi\u001b[0m \u001b[0;32min\u001b[0m \u001b[0mrange\u001b[0m\u001b[0;34m(\u001b[0m\u001b[0;36m5000\u001b[0m\u001b[0;34m)\u001b[0m\u001b[0;34m:\u001b[0m\u001b[0;34m\u001b[0m\u001b[0;34m\u001b[0m\u001b[0m\n\u001b[0;32m---> 58\u001b[0;31m     \u001b[0mq_result\u001b[0m \u001b[0;34m=\u001b[0m \u001b[0mq_iteration\u001b[0m\u001b[0;34m(\u001b[0m\u001b[0menv\u001b[0m\u001b[0;34m,\u001b[0m \u001b[0mmodel\u001b[0m\u001b[0;34m,\u001b[0m \u001b[0mstates\u001b[0m\u001b[0;34m,\u001b[0m \u001b[0mi\u001b[0m\u001b[0;34m,\u001b[0m \u001b[0mmemory\u001b[0m\u001b[0;34m,\u001b[0m \u001b[0mget_epsilon_for_iteration\u001b[0m\u001b[0;34m)\u001b[0m\u001b[0;34m\u001b[0m\u001b[0;34m\u001b[0m\u001b[0m\n\u001b[0m\u001b[1;32m     59\u001b[0m     \u001b[0mstates\u001b[0m \u001b[0;34m=\u001b[0m \u001b[0mnp\u001b[0m\u001b[0;34m.\u001b[0m\u001b[0mdelete\u001b[0m\u001b[0;34m(\u001b[0m\u001b[0mstates\u001b[0m\u001b[0;34m,\u001b[0m \u001b[0;36m0\u001b[0m\u001b[0;34m,\u001b[0m \u001b[0maxis\u001b[0m\u001b[0;34m=\u001b[0m\u001b[0;36m2\u001b[0m\u001b[0;34m)\u001b[0m\u001b[0;34m\u001b[0m\u001b[0;34m\u001b[0m\u001b[0m\n\u001b[1;32m     60\u001b[0m     \u001b[0mstates\u001b[0m \u001b[0;34m=\u001b[0m \u001b[0mnp\u001b[0m\u001b[0;34m.\u001b[0m\u001b[0mappend\u001b[0m\u001b[0;34m(\u001b[0m\u001b[0mstates\u001b[0m\u001b[0;34m,\u001b[0m \u001b[0mq_result\u001b[0m\u001b[0;34m[\u001b[0m\u001b[0;36m0\u001b[0m\u001b[0;34m]\u001b[0m\u001b[0;34m,\u001b[0m \u001b[0maxis\u001b[0m\u001b[0;34m=\u001b[0m\u001b[0;36m2\u001b[0m\u001b[0;34m)\u001b[0m\u001b[0;34m\u001b[0m\u001b[0;34m\u001b[0m\u001b[0m\n",
            "\u001b[0;32m<ipython-input-26-293043c7f0a0>\u001b[0m in \u001b[0;36mq_iteration\u001b[0;34m(env, model, init_states, iteration, memory, get_epsilon_for_iteration)\u001b[0m\n\u001b[1;32m     19\u001b[0m     \u001b[0mbatch\u001b[0m \u001b[0;34m=\u001b[0m \u001b[0mmemory\u001b[0m\u001b[0;34m.\u001b[0m\u001b[0msample_batch\u001b[0m\u001b[0;34m(\u001b[0m\u001b[0;36m16\u001b[0m\u001b[0;34m)\u001b[0m\u001b[0;34m\u001b[0m\u001b[0;34m\u001b[0m\u001b[0m\n\u001b[1;32m     20\u001b[0m     \u001b[0;32mfor\u001b[0m \u001b[0mbatch_item\u001b[0m \u001b[0;32min\u001b[0m \u001b[0mbatch\u001b[0m\u001b[0;34m:\u001b[0m\u001b[0;34m\u001b[0m\u001b[0;34m\u001b[0m\u001b[0m\n\u001b[0;32m---> 21\u001b[0;31m         \u001b[0mfit_batch\u001b[0m\u001b[0;34m(\u001b[0m\u001b[0mmodel\u001b[0m\u001b[0;34m,\u001b[0m \u001b[0mbatch_item\u001b[0m\u001b[0;34m,\u001b[0m \u001b[0;36m.9\u001b[0m\u001b[0;34m)\u001b[0m\u001b[0;34m\u001b[0m\u001b[0;34m\u001b[0m\u001b[0m\n\u001b[0m\u001b[1;32m     22\u001b[0m \u001b[0;34m\u001b[0m\u001b[0m\n\u001b[1;32m     23\u001b[0m     \u001b[0;32mreturn\u001b[0m \u001b[0;34m(\u001b[0m\u001b[0mnew_state\u001b[0m\u001b[0;34m,\u001b[0m \u001b[0mreward\u001b[0m\u001b[0;34m)\u001b[0m\u001b[0;34m\u001b[0m\u001b[0;34m\u001b[0m\u001b[0m\n",
            "\u001b[0;32m<ipython-input-26-293043c7f0a0>\u001b[0m in \u001b[0;36mfit_batch\u001b[0;34m(model, batch_item, gamma)\u001b[0m\n\u001b[1;32m     30\u001b[0m     \u001b[0mmaxQi\u001b[0m \u001b[0;34m=\u001b[0m \u001b[0mnp\u001b[0m\u001b[0;34m.\u001b[0m\u001b[0margmax\u001b[0m\u001b[0;34m(\u001b[0m\u001b[0mnext_Q_values\u001b[0m\u001b[0;34m)\u001b[0m\u001b[0;34m\u001b[0m\u001b[0;34m\u001b[0m\u001b[0m\n\u001b[1;32m     31\u001b[0m     \u001b[0mtargets\u001b[0m\u001b[0;34m[\u001b[0m\u001b[0mmaxQi\u001b[0m\u001b[0;34m]\u001b[0m \u001b[0;34m=\u001b[0m \u001b[0mreward\u001b[0m \u001b[0;34m+\u001b[0m \u001b[0mgamma\u001b[0m \u001b[0;34m*\u001b[0m \u001b[0mnext_Q_values\u001b[0m\u001b[0;34m[\u001b[0m\u001b[0;36m0\u001b[0m\u001b[0;34m]\u001b[0m\u001b[0;34m[\u001b[0m\u001b[0mmaxQi\u001b[0m\u001b[0;34m]\u001b[0m\u001b[0;34m\u001b[0m\u001b[0;34m\u001b[0m\u001b[0m\n\u001b[0;32m---> 32\u001b[0;31m     \u001b[0mmodel\u001b[0m\u001b[0;34m.\u001b[0m\u001b[0mfit\u001b[0m\u001b[0;34m(\u001b[0m\u001b[0;34m[\u001b[0m\u001b[0;34m[\u001b[0m\u001b[0mnew_states\u001b[0m\u001b[0;34m]\u001b[0m\u001b[0;34m,\u001b[0m \u001b[0;34m[\u001b[0m\u001b[0mnp\u001b[0m\u001b[0;34m.\u001b[0m\u001b[0mones\u001b[0m\u001b[0;34m(\u001b[0m\u001b[0mACTIONS_TYPES\u001b[0m\u001b[0;34m.\u001b[0m\u001b[0mshape\u001b[0m\u001b[0;34m)\u001b[0m\u001b[0;34m]\u001b[0m\u001b[0;34m]\u001b[0m\u001b[0;34m,\u001b[0m \u001b[0;34m[\u001b[0m\u001b[0;34m[\u001b[0m\u001b[0mtargets\u001b[0m\u001b[0;34m]\u001b[0m\u001b[0;34m]\u001b[0m\u001b[0;34m,\u001b[0m \u001b[0mepochs\u001b[0m\u001b[0;34m=\u001b[0m\u001b[0;36m10\u001b[0m\u001b[0;34m,\u001b[0m \u001b[0mverbose\u001b[0m\u001b[0;34m=\u001b[0m\u001b[0;36m0\u001b[0m\u001b[0;34m)\u001b[0m\u001b[0;34m\u001b[0m\u001b[0;34m\u001b[0m\u001b[0m\n\u001b[0m\u001b[1;32m     33\u001b[0m \u001b[0;34m\u001b[0m\u001b[0m\n\u001b[1;32m     34\u001b[0m \u001b[0;32mdef\u001b[0m \u001b[0mq_init\u001b[0m\u001b[0;34m(\u001b[0m\u001b[0menv\u001b[0m\u001b[0;34m,\u001b[0m \u001b[0mmemory\u001b[0m\u001b[0;34m)\u001b[0m\u001b[0;34m:\u001b[0m\u001b[0;34m\u001b[0m\u001b[0;34m\u001b[0m\u001b[0m\n",
            "\u001b[0;32m/usr/local/lib/python3.6/dist-packages/keras/engine/training.py\u001b[0m in \u001b[0;36mfit\u001b[0;34m(self, x, y, batch_size, epochs, verbose, callbacks, validation_split, validation_data, shuffle, class_weight, sample_weight, initial_epoch, steps_per_epoch, validation_steps, validation_freq, max_queue_size, workers, use_multiprocessing, **kwargs)\u001b[0m\n\u001b[1;32m   1176\u001b[0m                                         \u001b[0msteps_per_epoch\u001b[0m\u001b[0;34m=\u001b[0m\u001b[0msteps_per_epoch\u001b[0m\u001b[0;34m,\u001b[0m\u001b[0;34m\u001b[0m\u001b[0;34m\u001b[0m\u001b[0m\n\u001b[1;32m   1177\u001b[0m                                         \u001b[0mvalidation_steps\u001b[0m\u001b[0;34m=\u001b[0m\u001b[0mvalidation_steps\u001b[0m\u001b[0;34m,\u001b[0m\u001b[0;34m\u001b[0m\u001b[0;34m\u001b[0m\u001b[0m\n\u001b[0;32m-> 1178\u001b[0;31m                                         validation_freq=validation_freq)\n\u001b[0m\u001b[1;32m   1179\u001b[0m \u001b[0;34m\u001b[0m\u001b[0m\n\u001b[1;32m   1180\u001b[0m     def evaluate(self,\n",
            "\u001b[0;32m/usr/local/lib/python3.6/dist-packages/keras/engine/training_arrays.py\u001b[0m in \u001b[0;36mfit_loop\u001b[0;34m(model, fit_function, fit_inputs, out_labels, batch_size, epochs, verbose, callbacks, val_function, val_inputs, shuffle, callback_metrics, initial_epoch, steps_per_epoch, validation_steps, validation_freq)\u001b[0m\n\u001b[1;32m    202\u001b[0m                     \u001b[0mins_batch\u001b[0m\u001b[0;34m[\u001b[0m\u001b[0mi\u001b[0m\u001b[0;34m]\u001b[0m \u001b[0;34m=\u001b[0m \u001b[0mins_batch\u001b[0m\u001b[0;34m[\u001b[0m\u001b[0mi\u001b[0m\u001b[0;34m]\u001b[0m\u001b[0;34m.\u001b[0m\u001b[0mtoarray\u001b[0m\u001b[0;34m(\u001b[0m\u001b[0;34m)\u001b[0m\u001b[0;34m\u001b[0m\u001b[0;34m\u001b[0m\u001b[0m\n\u001b[1;32m    203\u001b[0m \u001b[0;34m\u001b[0m\u001b[0m\n\u001b[0;32m--> 204\u001b[0;31m                 \u001b[0mouts\u001b[0m \u001b[0;34m=\u001b[0m \u001b[0mfit_function\u001b[0m\u001b[0;34m(\u001b[0m\u001b[0mins_batch\u001b[0m\u001b[0;34m)\u001b[0m\u001b[0;34m\u001b[0m\u001b[0;34m\u001b[0m\u001b[0m\n\u001b[0m\u001b[1;32m    205\u001b[0m                 \u001b[0mouts\u001b[0m \u001b[0;34m=\u001b[0m \u001b[0mto_list\u001b[0m\u001b[0;34m(\u001b[0m\u001b[0mouts\u001b[0m\u001b[0;34m)\u001b[0m\u001b[0;34m\u001b[0m\u001b[0;34m\u001b[0m\u001b[0m\n\u001b[1;32m    206\u001b[0m                 \u001b[0;32mfor\u001b[0m \u001b[0ml\u001b[0m\u001b[0;34m,\u001b[0m \u001b[0mo\u001b[0m \u001b[0;32min\u001b[0m \u001b[0mzip\u001b[0m\u001b[0;34m(\u001b[0m\u001b[0mout_labels\u001b[0m\u001b[0;34m,\u001b[0m \u001b[0mouts\u001b[0m\u001b[0;34m)\u001b[0m\u001b[0;34m:\u001b[0m\u001b[0;34m\u001b[0m\u001b[0;34m\u001b[0m\u001b[0m\n",
            "\u001b[0;32m/usr/local/lib/python3.6/dist-packages/keras/backend/tensorflow_backend.py\u001b[0m in \u001b[0;36m__call__\u001b[0;34m(self, inputs)\u001b[0m\n\u001b[1;32m   2977\u001b[0m                     \u001b[0;32mreturn\u001b[0m \u001b[0mself\u001b[0m\u001b[0;34m.\u001b[0m\u001b[0m_legacy_call\u001b[0m\u001b[0;34m(\u001b[0m\u001b[0minputs\u001b[0m\u001b[0;34m)\u001b[0m\u001b[0;34m\u001b[0m\u001b[0;34m\u001b[0m\u001b[0m\n\u001b[1;32m   2978\u001b[0m \u001b[0;34m\u001b[0m\u001b[0m\n\u001b[0;32m-> 2979\u001b[0;31m             \u001b[0;32mreturn\u001b[0m \u001b[0mself\u001b[0m\u001b[0;34m.\u001b[0m\u001b[0m_call\u001b[0m\u001b[0;34m(\u001b[0m\u001b[0minputs\u001b[0m\u001b[0;34m)\u001b[0m\u001b[0;34m\u001b[0m\u001b[0;34m\u001b[0m\u001b[0m\n\u001b[0m\u001b[1;32m   2980\u001b[0m         \u001b[0;32melse\u001b[0m\u001b[0;34m:\u001b[0m\u001b[0;34m\u001b[0m\u001b[0;34m\u001b[0m\u001b[0m\n\u001b[1;32m   2981\u001b[0m             \u001b[0;32mif\u001b[0m \u001b[0mpy_any\u001b[0m\u001b[0;34m(\u001b[0m\u001b[0mis_tensor\u001b[0m\u001b[0;34m(\u001b[0m\u001b[0mx\u001b[0m\u001b[0;34m)\u001b[0m \u001b[0;32mfor\u001b[0m \u001b[0mx\u001b[0m \u001b[0;32min\u001b[0m \u001b[0minputs\u001b[0m\u001b[0;34m)\u001b[0m\u001b[0;34m:\u001b[0m\u001b[0;34m\u001b[0m\u001b[0;34m\u001b[0m\u001b[0m\n",
            "\u001b[0;32m/usr/local/lib/python3.6/dist-packages/keras/backend/tensorflow_backend.py\u001b[0m in \u001b[0;36m_call\u001b[0;34m(self, inputs)\u001b[0m\n\u001b[1;32m   2935\u001b[0m             \u001b[0mfetched\u001b[0m \u001b[0;34m=\u001b[0m \u001b[0mself\u001b[0m\u001b[0;34m.\u001b[0m\u001b[0m_callable_fn\u001b[0m\u001b[0;34m(\u001b[0m\u001b[0;34m*\u001b[0m\u001b[0marray_vals\u001b[0m\u001b[0;34m,\u001b[0m \u001b[0mrun_metadata\u001b[0m\u001b[0;34m=\u001b[0m\u001b[0mself\u001b[0m\u001b[0;34m.\u001b[0m\u001b[0mrun_metadata\u001b[0m\u001b[0;34m)\u001b[0m\u001b[0;34m\u001b[0m\u001b[0;34m\u001b[0m\u001b[0m\n\u001b[1;32m   2936\u001b[0m         \u001b[0;32melse\u001b[0m\u001b[0;34m:\u001b[0m\u001b[0;34m\u001b[0m\u001b[0;34m\u001b[0m\u001b[0m\n\u001b[0;32m-> 2937\u001b[0;31m             \u001b[0mfetched\u001b[0m \u001b[0;34m=\u001b[0m \u001b[0mself\u001b[0m\u001b[0;34m.\u001b[0m\u001b[0m_callable_fn\u001b[0m\u001b[0;34m(\u001b[0m\u001b[0;34m*\u001b[0m\u001b[0marray_vals\u001b[0m\u001b[0;34m)\u001b[0m\u001b[0;34m\u001b[0m\u001b[0;34m\u001b[0m\u001b[0m\n\u001b[0m\u001b[1;32m   2938\u001b[0m         \u001b[0;32mreturn\u001b[0m \u001b[0mfetched\u001b[0m\u001b[0;34m[\u001b[0m\u001b[0;34m:\u001b[0m\u001b[0mlen\u001b[0m\u001b[0;34m(\u001b[0m\u001b[0mself\u001b[0m\u001b[0;34m.\u001b[0m\u001b[0moutputs\u001b[0m\u001b[0;34m)\u001b[0m\u001b[0;34m]\u001b[0m\u001b[0;34m\u001b[0m\u001b[0;34m\u001b[0m\u001b[0m\n\u001b[1;32m   2939\u001b[0m \u001b[0;34m\u001b[0m\u001b[0m\n",
            "\u001b[0;32m/usr/local/lib/python3.6/dist-packages/tensorflow_core/python/client/session.py\u001b[0m in \u001b[0;36m__call__\u001b[0;34m(self, *args, **kwargs)\u001b[0m\n\u001b[1;32m   1470\u001b[0m         ret = tf_session.TF_SessionRunCallable(self._session._session,\n\u001b[1;32m   1471\u001b[0m                                                \u001b[0mself\u001b[0m\u001b[0;34m.\u001b[0m\u001b[0m_handle\u001b[0m\u001b[0;34m,\u001b[0m \u001b[0margs\u001b[0m\u001b[0;34m,\u001b[0m\u001b[0;34m\u001b[0m\u001b[0;34m\u001b[0m\u001b[0m\n\u001b[0;32m-> 1472\u001b[0;31m                                                run_metadata_ptr)\n\u001b[0m\u001b[1;32m   1473\u001b[0m         \u001b[0;32mif\u001b[0m \u001b[0mrun_metadata\u001b[0m\u001b[0;34m:\u001b[0m\u001b[0;34m\u001b[0m\u001b[0;34m\u001b[0m\u001b[0m\n\u001b[1;32m   1474\u001b[0m           \u001b[0mproto_data\u001b[0m \u001b[0;34m=\u001b[0m \u001b[0mtf_session\u001b[0m\u001b[0;34m.\u001b[0m\u001b[0mTF_GetBuffer\u001b[0m\u001b[0;34m(\u001b[0m\u001b[0mrun_metadata_ptr\u001b[0m\u001b[0;34m)\u001b[0m\u001b[0;34m\u001b[0m\u001b[0;34m\u001b[0m\u001b[0m\n",
            "\u001b[0;31mKeyboardInterrupt\u001b[0m: "
          ]
        }
      ]
    },
    {
      "cell_type": "markdown",
      "metadata": {
        "id": "IiOBPXjVGnLR",
        "colab_type": "text"
      },
      "source": [
        "## Virtual display and video recording for Colab"
      ]
    },
    {
      "cell_type": "markdown",
      "metadata": {
        "id": "4sx3L1j9B5qn",
        "colab_type": "text"
      },
      "source": [
        "## Run simulation"
      ]
    },
    {
      "cell_type": "code",
      "metadata": {
        "id": "hO8BwhIQbzOD",
        "colab_type": "code",
        "colab": {}
      },
      "source": [
        "np.random.choice([9, 8], p=[0.5, 0.5])"
      ],
      "execution_count": 0,
      "outputs": []
    },
    {
      "cell_type": "code",
      "metadata": {
        "id": "GhSeQkSBB5qo",
        "colab_type": "code",
        "colab": {
          "base_uri": "https://localhost:8080/",
          "height": 51
        },
        "outputId": "d02d208e-ed6e-4b3a-be80-1c41353d0e44"
      },
      "source": [
        "RECORD_VIDEO = True\n",
        "\n",
        "if RECORD_VIDEO:\n",
        "  \n",
        "    !pip install pyvirtualdisplay > /dev/null 2>&1\n",
        "    !apt-get install -y xvfb python-opengl ffmpeg > /dev/null 2>&1\n",
        "\n",
        "    from pyvirtualdisplay import Display\n",
        "    display = Display(visible=0, size=(1400, 900))\n",
        "    display.start()\n",
        "\n",
        "if RECORD_VIDEO:\n",
        "    from gym.wrappers import Monitor\n",
        "    env_sim = Monitor(env, './video', force=True)\n",
        "else:\n",
        "    env_sim = env\n",
        "\n",
        "init_state = env_sim.reset()\n",
        "totalReward = 0\n",
        "\n",
        "UP_ACTION = 2\n",
        "DOWN_ACTION = 3\n",
        "\n",
        "env_states = preprocess(init_state)\n",
        "for i in range(3):\n",
        "    state, reward, done, _ = env_sim.step(3)\n",
        "    env_states = np.append(env_states, preprocess(state), axis=2)\n",
        "\n",
        "\n",
        "for _ in range(1000):\n",
        "    env_sim.render()\n",
        "    q = q_eval(model, env_states)\n",
        "    state, reward, done, _ = env_sim.step(ACTIONS_TYPES[np.argmax(q[0])])\n",
        "\n",
        "    # action = env.action_space.sample()\n",
        "    # action = np.random.choice([2, 3])\n",
        "    # state, reward, done, _ = env_sim.step(action)\n",
        "    env_states = np.append(env_states, preprocess(state), axis=2)\n",
        "\n",
        "    env_states = np.delete(env_states, 0, axis=2)\n",
        "\n",
        "    totalReward += reward\n",
        "    if done:        \n",
        "        break\n",
        "    \n",
        "    if not RECORD_VIDEO:\n",
        "        time.sleep(1./30)\n",
        "        \n",
        "env_sim.close()\n",
        "\n",
        "print('Total reward = {}'.format(totalReward))"
      ],
      "execution_count": 23,
      "outputs": [
        {
          "output_type": "stream",
          "text": [
            "xdpyinfo was not found, X start can not be checked! Please install xdpyinfo!\n"
          ],
          "name": "stderr"
        },
        {
          "output_type": "stream",
          "text": [
            "Total reward = -18.0\n"
          ],
          "name": "stdout"
        }
      ]
    },
    {
      "cell_type": "markdown",
      "metadata": {
        "id": "oWteeIo8K2jR",
        "colab_type": "text"
      },
      "source": [
        "## Show the video"
      ]
    },
    {
      "cell_type": "code",
      "metadata": {
        "id": "yEb1-4mhEU0i",
        "colab_type": "code",
        "colab": {
          "base_uri": "https://localhost:8080/",
          "height": 421
        },
        "outputId": "1af4fd43-81a5-408e-edf5-26e6df09d3f4"
      },
      "source": [
        "def show_video():\n",
        "    import glob\n",
        "    import io\n",
        "    import base64\n",
        "    from IPython.display import HTML\n",
        "    from IPython import display as ipythondisplay\n",
        "\n",
        "    mp4list = glob.glob('video/*.mp4')\n",
        "    if len(mp4list) > 0:\n",
        "        mp4 = mp4list[0]\n",
        "        video = io.open(mp4, 'r+b').read()\n",
        "        encoded = base64.b64encode(video)\n",
        "        ipythondisplay.display(HTML(data='''<video alt=\"test\" autoplay \n",
        "            loop controls style=\"height: 400px;\">\n",
        "            <source src=\"data:video/mp4;base64,{0}\" type=\"video/mp4\" />\n",
        "            </video>'''.format(encoded.decode('ascii'))))\n",
        "    else: \n",
        "        print(\"Could not find video\")\n",
        "    \n",
        "show_video()"
      ],
      "execution_count": 24,
      "outputs": [
        {
          "output_type": "display_data",
          "data": {
            "text/html": [
              "<video alt=\"test\" autoplay \n",
              "            loop controls style=\"height: 400px;\">\n",
              "            <source src=\"data:video/mp4;base64,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\" type=\"video/mp4\" />\n",
              "            </video>"
            ],
            "text/plain": [
              "<IPython.core.display.HTML object>"
            ]
          },
          "metadata": {
            "tags": []
          }
        }
      ]
    },
    {
      "cell_type": "code",
      "metadata": {
        "id": "j8eb7loItDM4",
        "colab_type": "code",
        "colab": {}
      },
      "source": [
        ""
      ],
      "execution_count": 0,
      "outputs": []
    }
  ]
}
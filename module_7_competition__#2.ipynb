{
  "nbformat": 4,
  "nbformat_minor": 0,
  "metadata": {
    "colab": {
      "name": "module_7_competition.ipynb",
      "provenance": [],
      "private_outputs": true,
      "include_colab_link": true
    },
    "kernelspec": {
      "name": "python3",
      "display_name": "Python 3"
    },
    "accelerator": "GPU"
  },
  "cells": [
    {
      "cell_type": "markdown",
      "metadata": {
        "id": "view-in-github",
        "colab_type": "text"
      },
      "source": [
        "<a href=\"https://colab.research.google.com/github/hrumst/ML/blob/master/module_7_competition__%232.ipynb\" target=\"_parent\"><img src=\"https://colab.research.google.com/assets/colab-badge.svg\" alt=\"Open In Colab\"/></a>"
      ]
    },
    {
      "cell_type": "markdown",
      "metadata": {
        "id": "s-6hMKJs49yh",
        "colab_type": "text"
      },
      "source": [
        "Строим deep lab v3+ !\n",
        "https://github.com/bonlime/keras-deeplab-v3-plus"
      ]
    },
    {
      "cell_type": "code",
      "metadata": {
        "id": "kf3hCmsz8Wj2",
        "colab_type": "code",
        "colab": {}
      },
      "source": [
        "%config IPComplater.greedy = True"
      ],
      "execution_count": 0,
      "outputs": []
    },
    {
      "cell_type": "code",
      "metadata": {
        "id": "cUSpzY6R7xhe",
        "colab_type": "code",
        "colab": {}
      },
      "source": [
        "# mkdir train2017 && unzip \"./train2017.zip\" -d train2017\n",
        "# !wget http://images.cocodataset.org/zips/train2017.zip  \n",
        "# !cp -r ./train2017 ./DRIVE/My\\ Drive/competition_7/coco"
      ],
      "execution_count": 0,
      "outputs": []
    },
    {
      "cell_type": "code",
      "metadata": {
        "id": "ZzloqNMR8xxG",
        "colab_type": "code",
        "colab": {}
      },
      "source": [
        "from google.colab import drive\n",
        "\n",
        "DRIVE_MOUNT = './DRIVE/'\n",
        "DRIVE_MOUNT_SAVE_MODEL_PATH = 'My Drive/Colab Notebooks/competition_7/brand-logo-detection-dataset.zip'\n",
        "drive.mount(DRIVE_MOUNT, force_remount=True)"
      ],
      "execution_count": 0,
      "outputs": []
    },
    {
      "cell_type": "code",
      "metadata": {
        "id": "_u8WlcssFD-n",
        "colab_type": "code",
        "colab": {}
      },
      "source": [
        "import sys\n",
        "sys.path.insert(0, './DRIVE/My Drive/competition_7/deeplab_v3_plus')"
      ],
      "execution_count": 0,
      "outputs": []
    },
    {
      "cell_type": "code",
      "metadata": {
        "id": "9hxct6TR1PGV",
        "colab_type": "code",
        "colab": {}
      },
      "source": [
        "try:\n",
        "  # Colab only\n",
        "  %tensorflow_version 2.x\n",
        "except Exception:\n",
        "    pass"
      ],
      "execution_count": 0,
      "outputs": []
    },
    {
      "cell_type": "code",
      "metadata": {
        "id": "k8vEKpMTGxng",
        "colab_type": "code",
        "colab": {}
      },
      "source": [
        "from model import Deeplabv3\n",
        "deeplab_model = Deeplabv3(backbone='xception') "
      ],
      "execution_count": 0,
      "outputs": []
    },
    {
      "cell_type": "code",
      "metadata": {
        "id": "Ww_otxqM4q8U",
        "colab_type": "code",
        "colab": {}
      },
      "source": [
        "import numpy as np\n",
        "from PIL import Image\n",
        "from matplotlib import pyplot as plt\n",
        "\n",
        "# Generates labels using most basic setup.  Supports various image sizes.  Returns image labels in same format\n",
        "# as original image.  Normalization matches MobileNetV2\n",
        "\n",
        "trained_image_width=512\n",
        "mean_subtraction_value=127.5\n",
        "\n",
        "def get_mask(img_path):\n",
        "    image = np.array(Image.open(img_path).convert('RGB'))\n",
        "\n",
        "    # resize to max dimension of images from training dataset\n",
        "    w, h, _ = image.shape\n",
        "    ratio = float(trained_image_width) / np.max([w, h])\n",
        "    resized_image = np.array(Image.fromarray(image.astype('uint8')).resize((int(ratio * h), int(ratio * w))))\n",
        "\n",
        "    # apply normalization for trained dataset images\n",
        "    resized_image = (resized_image / mean_subtraction_value) - 1.\n",
        "\n",
        "    # pad array to square image to match training images\n",
        "    pad_x = int(trained_image_width - resized_image.shape[0])\n",
        "    pad_y = int(trained_image_width - resized_image.shape[1])\n",
        "    resized_image = np.pad(resized_image, ((0, pad_x), (0, pad_y), (0, 0)), mode='constant')\n",
        "\n",
        "    # make prediction\n",
        "    res = deeplab_model.predict_on_batch(np.expand_dims(resized_image, 0))\n",
        "\n",
        "    # print(res)\n",
        "    labels = np.argmax(res.squeeze(), -1)\n",
        "\n",
        "    labels = np.array(np.where(labels == 15, labels, 0))\n",
        "    # remove padding and resize back to original image\n",
        "    if pad_x > 0:\n",
        "        labels = labels[:-pad_x]\n",
        "    if pad_y > 0:\n",
        "        labels = labels[:, :-pad_y]\n",
        "\n",
        "    return np.array(Image.fromarray(labels.astype('uint8')).resize((h, w)))"
      ],
      "execution_count": 0,
      "outputs": []
    },
    {
      "cell_type": "code",
      "metadata": {
        "id": "t1BdXjWZ8tUP",
        "colab_type": "code",
        "colab": {}
      },
      "source": [
        "import pandas as pd\n",
        "# Из sample-submission читаем по каким именно картинкам нам нужно сделать предсказание\n",
        "sample_submission = pd.read_csv('./DRIVE/My Drive/competition_7/coco/sample-submission.csv')\n",
        "sample_submission.info()\n",
        "sample_submission.head()"
      ],
      "execution_count": 0,
      "outputs": []
    },
    {
      "cell_type": "code",
      "metadata": {
        "id": "yIo_-0aGW96J",
        "colab_type": "code",
        "colab": {}
      },
      "source": [
        "# кодирование маски в EncodedPixels\n",
        "def mask_to_rle(mask):\n",
        "    mask_flat = mask.flatten('F')\n",
        "    flag = 0\n",
        "    rle_list = list()\n",
        "    for i in range(mask_flat.shape[0]):\n",
        "        if flag == 0:\n",
        "            if mask_flat[i] == 15:\n",
        "                flag = 1\n",
        "                starts = i+1\n",
        "                rle_list.append(starts)\n",
        "        else:\n",
        "            if mask_flat[i] == 0:\n",
        "                flag = 0\n",
        "                ends = i\n",
        "                rle_list.append(ends-starts+1)\n",
        "    if flag == 1:\n",
        "        ends = mask_flat.shape[0]\n",
        "        rle_list.append(ends-starts+1)\n",
        "    #sanity check\n",
        "    if len(rle_list) % 2 != 0:\n",
        "        print('NG')\n",
        "    if len(rle_list) == 0:\n",
        "        rle = np.nan\n",
        "    else:\n",
        "        rle = ' '.join(map(str,rle_list))\n",
        "    return rle"
      ],
      "execution_count": 0,
      "outputs": []
    },
    {
      "cell_type": "code",
      "metadata": {
        "id": "6j74_vQ580DR",
        "colab_type": "code",
        "colab": {}
      },
      "source": [
        "%%time\n",
        "from tqdm import tqdm\n",
        "# Осталось дело за малым, \n",
        "# пройтись по списку картинок и сделать предикты с дальнейшим их кодированием в EncodedPixels\n",
        "# Это займет значительное время...\n",
        "submit_rle_arr = []\n",
        "\n",
        "i = 0\n",
        "for img_id in tqdm(sample_submission.ImageId.values):\n",
        "    mask_out = get_mask(f'./DRIVE/My Drive/competition_7/coco/val2017/{img_id}')\n",
        "    rle = mask_to_rle(mask_out)\n",
        "    submit_rle_arr.append(rle)\n",
        "    i += 1\n",
        "    if i > 100:\n",
        "        break"
      ],
      "execution_count": 0,
      "outputs": []
    },
    {
      "cell_type": "code",
      "metadata": {
        "id": "EOsFEtY1IGhw",
        "colab_type": "code",
        "colab": {}
      },
      "source": [
        ""
      ],
      "execution_count": 0,
      "outputs": []
    },
    {
      "cell_type": "code",
      "metadata": {
        "id": "4xd3FtGw9NR-",
        "colab_type": "code",
        "colab": {}
      },
      "source": [
        "\n",
        "sample_submission['EncodedPixels'] = submit_rle_arr\n",
        "sample_submission.to_csv('submission.csv', index=False)\n",
        "sample_submission.head()"
      ],
      "execution_count": 0,
      "outputs": []
    }
  ]
}
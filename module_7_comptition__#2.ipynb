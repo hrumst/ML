{
  "nbformat": 4,
  "nbformat_minor": 0,
  "metadata": {
    "colab": {
      "name": "module_7_comptition_#2.ipynb",
      "provenance": [],
      "private_outputs": true,
      "include_colab_link": true
    },
    "kernelspec": {
      "name": "python3",
      "display_name": "Python 3"
    }
  },
  "cells": [
    {
      "cell_type": "markdown",
      "metadata": {
        "id": "view-in-github",
        "colab_type": "text"
      },
      "source": [
        "<a href=\"https://colab.research.google.com/github/hrumst/ML/blob/master/module_7_comptition__%232.ipynb\" target=\"_parent\"><img src=\"https://colab.research.google.com/assets/colab-badge.svg\" alt=\"Open In Colab\"/></a>"
      ]
    },
    {
      "cell_type": "code",
      "metadata": {
        "id": "KwXsxW6K3Tk4",
        "colab_type": "code",
        "colab": {}
      },
      "source": [
        "from google.colab import drive \n",
        "drive.mount('/content/gdrive') "
      ],
      "execution_count": 0,
      "outputs": []
    },
    {
      "cell_type": "code",
      "metadata": {
        "id": "bTOTHABm3UOH",
        "colab_type": "code",
        "colab": {}
      },
      "source": [
        "import sys\n",
        "ROOT_DIR = '/content/gdrive/My Drive/colab_data/Mask_RCNN-master'\n",
        "print(ROOT_DIR)\n",
        "sys.path.insert(0, ROOT_DIR)\n",
        "sys.path.insert(0, ROOT_DIR + '/mrcnn')\n",
        "sys.path.insert(0, ROOT_DIR + '/samples/coco')"
      ],
      "execution_count": 0,
      "outputs": []
    },
    {
      "cell_type": "code",
      "metadata": {
        "id": "FYI9x4ph1DzF",
        "colab_type": "code",
        "colab": {}
      },
      "source": [
        "import os\n",
        "import sys\n",
        "import random\n",
        "import math\n",
        "import re\n",
        "import time\n",
        "import numpy as np\n",
        "import tensorflow as tf\n",
        "import matplotlib\n",
        "import matplotlib.pyplot as plt\n",
        "import matplotlib.patches as patches\n",
        "\n",
        "# Root directory of the project\n",
        "ROOT_DIR = '/content/gdrive/My Drive/colab_data/Mask_RCNN-master'\n",
        "\n",
        "# Import Mask RCNN\n",
        "sys.path.append(ROOT_DIR)  # To find local version of the library\n",
        "from mrcnn import utils\n",
        "from mrcnn import visualize\n",
        "from mrcnn.visualize import display_images\n",
        "import mrcnn.model as modellib\n",
        "from mrcnn.model import log\n",
        "\n",
        "%matplotlib inline \n",
        "\n",
        "# Directory to save logs and trained model\n",
        "MODEL_DIR = os.path.join(ROOT_DIR, \"logs\")\n",
        "\n",
        "# Local path to trained weights file\n",
        "COCO_MODEL_PATH = os.path.join(ROOT_DIR, \"mask_rcnn_coco.h5\")\n",
        "# Download COCO trained weights from Releases if needed\n",
        "if not os.path.exists(COCO_MODEL_PATH):\n",
        "    utils.download_trained_weights(COCO_MODEL_PATH)\n",
        "\n",
        "# Path to Shapes trained weights\n",
        "SHAPES_MODEL_PATH = os.path.join(ROOT_DIR, \"mask_rcnn_shapes.h5\")"
      ],
      "execution_count": 0,
      "outputs": []
    },
    {
      "cell_type": "code",
      "metadata": {
        "id": "OXPiXSRN9cjB",
        "colab_type": "code",
        "colab": {}
      },
      "source": [
        "%cd /content/gdrive/My Drive/colab_data/Mask_RCNN-master"
      ],
      "execution_count": 0,
      "outputs": []
    },
    {
      "cell_type": "code",
      "metadata": {
        "id": "7W42XDwa4iv0",
        "colab_type": "code",
        "colab": {}
      },
      "source": [
        "# Run one of the code blocks\n",
        "\n",
        "# Shapes toy dataset\n",
        "# import shapes\n",
        "# config = shapes.ShapesConfig()\n",
        "\n",
        "# MS COCO Dataset\n",
        "import coco\n",
        "config = coco.CocoConfig()\n",
        "COCO_DIR = \"coco_data\"  # TODO: enter value here"
      ],
      "execution_count": 0,
      "outputs": []
    },
    {
      "cell_type": "code",
      "metadata": {
        "id": "0I3Ea7Iu50Ra",
        "colab_type": "code",
        "colab": {}
      },
      "source": [
        "# Override the training configurations with a few\n",
        "# changes for inferencing.\n",
        "class InferenceConfig(config.__class__):\n",
        "    # Run detection on one image at a time\n",
        "    GPU_COUNT = 1\n",
        "    IMAGES_PER_GPU = 1\n",
        "\n",
        "config = InferenceConfig()\n",
        "config.display()"
      ],
      "execution_count": 0,
      "outputs": []
    },
    {
      "cell_type": "code",
      "metadata": {
        "id": "r9FivBJv7hjU",
        "colab_type": "code",
        "colab": {}
      },
      "source": [
        "# Device to load the neural network on.\n",
        "# Useful if you're training a model on the same \n",
        "# machine, in which case use CPU and leave the\n",
        "# GPU for training.\n",
        "DEVICE = \"/cpu:0\"  # /cpu:0 or /gpu:0\n",
        "\n",
        "# Inspect the model in training or inference modes\n",
        "# values: 'inference' or 'training'\n",
        "# TODO: code for 'training' test mode not ready yet\n",
        "TEST_MODE = \"inference\""
      ],
      "execution_count": 0,
      "outputs": []
    },
    {
      "cell_type": "code",
      "metadata": {
        "id": "_Nvv7IKy7jzN",
        "colab_type": "code",
        "colab": {}
      },
      "source": [
        "def get_ax(rows=1, cols=1, size=16):\n",
        "    \"\"\"Return a Matplotlib Axes array to be used in\n",
        "    all visualizations in the notebook. Provide a\n",
        "    central point to control graph sizes.\n",
        "    \n",
        "    Adjust the size attribute to control how big to render images\n",
        "    \"\"\"\n",
        "    _, ax = plt.subplots(rows, cols, figsize=(size*cols, size*rows))\n",
        "    return ax"
      ],
      "execution_count": 0,
      "outputs": []
    },
    {
      "cell_type": "code",
      "metadata": {
        "id": "ksJkeRrP7mOt",
        "colab_type": "code",
        "colab": {}
      },
      "source": [
        "# Build validation dataset\n",
        "if config.NAME == 'shapes':\n",
        "    dataset = shapes.ShapesDataset()\n",
        "    dataset.load_shapes(500, config.IMAGE_SHAPE[0], config.IMAGE_SHAPE[1])\n",
        "elif config.NAME == \"coco\":\n",
        "    dataset = coco.CocoDataset()\n",
        "    dataset.load_coco(COCO_DIR, \"minival\", class_ids=[1])\n",
        "\n",
        "# Must call before using the dataset\n",
        "dataset.prepare()\n",
        "\n",
        "print(\"Images: {}\\nClasses: {}\".format(len(dataset.image_ids), dataset.class_names))"
      ],
      "execution_count": 0,
      "outputs": []
    },
    {
      "cell_type": "code",
      "metadata": {
        "id": "ajlZ_ndfE7F7",
        "colab_type": "code",
        "colab": {}
      },
      "source": [
        "# Create model in inference mode\n",
        "with tf.device(DEVICE):\n",
        "    model = modellib.MaskRCNN(mode=\"inference\", model_dir=MODEL_DIR,\n",
        "                              config=config)\n",
        "\n",
        "# Set weights file path\n",
        "if config.NAME == \"shapes\":\n",
        "    weights_path = SHAPES_MODEL_PATH\n",
        "elif config.NAME == \"coco\":\n",
        "    weights_path = COCO_MODEL_PATH\n",
        "# Or, uncomment to load the last model you trained\n",
        "# weights_path = model.find_last()\n",
        "\n",
        "# Load weights\n",
        "print(\"Loading weights \", '/content/gdrive/My Drive/competition_7/coco/mask_rcnn_coco.h5')\n",
        "model.load_weights('/content/gdrive/My Drive/competition_7/coco/mask_rcnn_coco.h5', by_name=True)"
      ],
      "execution_count": 0,
      "outputs": []
    },
    {
      "cell_type": "code",
      "metadata": {
        "id": "bYafVM5-bSBH",
        "colab_type": "code",
        "colab": {}
      },
      "source": [
        "image = np.array(Image.open('/content/gdrive/My Drive/competition_7/coco/train2017/train2017/000000281563.jpg'))\n",
        "results = model.detect([image], verbose=1)"
      ],
      "execution_count": 0,
      "outputs": []
    },
    {
      "cell_type": "code",
      "metadata": {
        "id": "wO8d-f7VfHzH",
        "colab_type": "code",
        "colab": {}
      },
      "source": [
        "r = results[0]\n",
        "class_names = ['BG', 'person', 'bicycle', 'car', 'motorcycle', 'airplane',\n",
        "               'bus', 'train', 'truck', 'boat', 'traffic light',\n",
        "               'fire hydrant', 'stop sign', 'parking meter', 'bench', 'bird',\n",
        "               'cat', 'dog', 'horse', 'sheep', 'cow', 'elephant', 'bear',\n",
        "               'zebra', 'giraffe', 'backpack', 'umbrella', 'handbag', 'tie',\n",
        "               'suitcase', 'frisbee', 'skis', 'snowboard', 'sports ball',\n",
        "               'kite', 'baseball bat', 'baseball glove', 'skateboard',\n",
        "               'surfboard', 'tennis racket', 'bottle', 'wine glass', 'cup',\n",
        "               'fork', 'knife', 'spoon', 'bowl', 'banana', 'apple',\n",
        "               'sandwich', 'orange', 'broccoli', 'carrot', 'hot dog', 'pizza',\n",
        "               'donut', 'cake', 'chair', 'couch', 'potted plant', 'bed',\n",
        "               'dining table', 'toilet', 'tv', 'laptop', 'mouse', 'remote',\n",
        "               'keyboard', 'cell phone', 'microwave', 'oven', 'toaster',\n",
        "               'sink', 'refrigerator', 'book', 'clock', 'vase', 'scissors',\n",
        "               'teddy bear', 'hair drier', 'toothbrush']\n",
        "visualize.display_instances(image, r['rois'], r['masks'], r['class_ids'], \n",
        "                            class_names, r['scores'], ax=get_ax())"
      ],
      "execution_count": 0,
      "outputs": []
    },
    {
      "cell_type": "code",
      "metadata": {
        "id": "sw7Ut_WgduKz",
        "colab_type": "code",
        "colab": {}
      },
      "source": [
        "for (i, class_id) in enumerate(results[0]['class_ids']):\n",
        "    if class_id == 1:\n",
        "        print(results[0]['masks'][i].shape)\n",
        "        # plt.show()\n",
        "        # plt.pause(.01)"
      ],
      "execution_count": 0,
      "outputs": []
    },
    {
      "cell_type": "code",
      "metadata": {
        "id": "C4dPbWnNFFwZ",
        "colab_type": "code",
        "colab": {}
      },
      "source": [
        "import numpy as np\n",
        "from PIL import Image\n",
        "from matplotlib import pyplot as plt\n",
        "\n",
        "# Generates labels using most basic setup.  Supports various image sizes.  Returns image labels in same format\n",
        "# as original image.  Normalization matches MobileNetV2\n",
        "\n",
        "trained_image_width=512\n",
        "mean_subtraction_value=127.5\n",
        "image = np.array(Image.open('/content/gdrive/My Drive/competition_7/coco/train2017/train2017/000000281563.jpg'))\n",
        "\n",
        "# resize to max dimension of images from training dataset\n",
        "w, h, _ = image.shape\n",
        "ratio = float(trained_image_width) / np.max([w, h])\n",
        "resized_image = np.array(Image.fromarray(image.astype('uint8')).resize((int(ratio * h), int(ratio * w))))\n",
        "\n",
        "# apply normalization for trained dataset images\n",
        "resized_image = (resized_image / mean_subtraction_value) - 1.\n",
        "\n",
        "# pad array to square image to match training images\n",
        "pad_x = int(trained_image_width - resized_image.shape[0])\n",
        "pad_y = int(trained_image_width - resized_image.shape[1])\n",
        "resized_image = np.pad(resized_image, ((0, pad_x), (0, pad_y), (0, 0)), mode='constant')\n",
        "\n",
        "# make prediction\n",
        "res = model.predict(np.expand_dims(resized_image, 0))\n",
        "\n",
        "print(scores.shape)\n",
        "\n",
        "print(res.shape)\n",
        "print(deeplab_model)\n",
        "\n",
        "# print(res)\n",
        "labels = np.argmax(res.squeeze(), -1)\n",
        "\n",
        "labels = np.array(np.where(labels == 15, labels, 0))\n",
        "print(labels)\n",
        "# remove padding and resize back to original image\n",
        "if pad_x > 0:\n",
        "    labels = labels[:-pad_x]\n",
        "if pad_y > 0:\n",
        "    labels = labels[:, :-pad_y]\n",
        "\n",
        "print(labels)\n",
        "labels = np.array(Image.fromarray(labels.astype('uint8')).resize((h, w)))\n",
        "\n",
        "\n",
        "plt.imshow(labels)\n",
        "plt.pause(.01)"
      ],
      "execution_count": 0,
      "outputs": []
    }
  ]
}
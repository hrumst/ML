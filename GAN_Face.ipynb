{
  "nbformat": 4,
  "nbformat_minor": 0,
  "metadata": {
    "colab": {
      "name": "GAN-Face.ipynb",
      "provenance": [],
      "private_outputs": true,
      "include_colab_link": true
    },
    "kernelspec": {
      "name": "python3",
      "display_name": "Python 3"
    }
  },
  "cells": [
    {
      "cell_type": "markdown",
      "metadata": {
        "id": "view-in-github",
        "colab_type": "text"
      },
      "source": [
        "<a href=\"https://colab.research.google.com/github/hrumst/ML/blob/master/GAN_Face.ipynb\" target=\"_parent\"><img src=\"https://colab.research.google.com/assets/colab-badge.svg\" alt=\"Open In Colab\"/></a>"
      ]
    },
    {
      "cell_type": "code",
      "metadata": {
        "id": "_EwVJq9pK-XL",
        "colab_type": "code",
        "colab": {}
      },
      "source": [
        "%config IPComplater.greedy = True"
      ],
      "execution_count": 0,
      "outputs": []
    },
    {
      "cell_type": "code",
      "metadata": {
        "id": "3x63yz-CLOKf",
        "colab_type": "code",
        "colab": {}
      },
      "source": [
        "from google.colab import drive\n",
        "drive.mount('./DRIVE', force_remount=True)"
      ],
      "execution_count": 0,
      "outputs": []
    },
    {
      "cell_type": "code",
      "metadata": {
        "id": "QM7Ty6W_LeeA",
        "colab_type": "code",
        "colab": {}
      },
      "source": [
        "import numpy as np\n",
        "\n",
        "%matplotlib inline\n",
        "import matplotlib.pyplot as plt\n",
        "\n",
        "import tensorflow as tf\n",
        "tf.enable_eager_execution()"
      ],
      "execution_count": 0,
      "outputs": []
    },
    {
      "cell_type": "code",
      "metadata": {
        "id": "CIoPQznyOiYK",
        "colab_type": "code",
        "colab": {}
      },
      "source": [
        "%%time\n",
        "\n",
        "DATA_SET_PATH_BASE = './DRIVE/My Drive/colab_data/lfw_funneled'\n",
        "IMG_LEN = 250\n",
        "IMG_HEIGHT = 250\n",
        "\n",
        "import os\n",
        "from PIL import Image\n",
        "import matplotlib.pyplot as plt\n",
        "\n",
        "img_paths = []\n",
        "for img_dir in os.listdir(DATA_SET_PATH_BASE):\n",
        "    img_dst = os.path.join(DATA_SET_PATH_BASE, img_dir)\n",
        "    if img_dst.find('.DS_Store') > -1 or img_dst.find('.txt') > -1:\n",
        "        continue\n",
        "    for img in os.listdir(img_dst):\n",
        "        img_paths.append(os.path.join(img_dst, img))\n",
        "\n",
        "imgs = []\n",
        "for img_path in img_paths:\n",
        "    img = Image.open(img_path)\n",
        "    imgs.append(np.array(img))\n",
        "\n",
        "print(len(imgs))"
      ],
      "execution_count": 0,
      "outputs": []
    },
    {
      "cell_type": "code",
      "metadata": {
        "id": "-cKcrodzVCRf",
        "colab_type": "code",
        "colab": {}
      },
      "source": [
        "INPUT_DIM = 100\n",
        "NUM_EPOCHS = 2\n",
        "HALF_BATCH_SIZE = 16\n",
        "BATCH_SIZE = HALF_BATCH_SIZE * 2\n",
        "LEARNING_RATE = 0.0002\n",
        "\n",
        "train_ds = train_ds = tf.data.Dataset.from_tensor_slices(np.array(imgs).reshape(-1, 250, 250, 3))\n",
        "train_ds = train_ds.shuffle(buffer_size=train_x.shape[0])\n",
        "train_ds = train_ds.repeat(NUM_EPOCHS)\n",
        "train_ds = train_ds.batch(HALF_BATCH_SIZE, drop_remainder=True)\n",
        "\n",
        "optimizer = tf.train.AdamOptimizer(LEARNING_RATE)"
      ],
      "execution_count": 0,
      "outputs": []
    }
  ]
}
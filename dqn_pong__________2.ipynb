{
  "nbformat": 4,
  "nbformat_minor": 0,
  "metadata": {
    "colab": {
      "name": "dqn-pong-#2.ipynb",
      "provenance": [],
      "collapsed_sections": [],
      "include_colab_link": true
    },
    "language_info": {
      "codemirror_mode": {
        "name": "ipython",
        "version": 3
      },
      "file_extension": ".py",
      "mimetype": "text/x-python",
      "name": "python",
      "nbconvert_exporter": "python",
      "pygments_lexer": "ipython3",
      "version": "3.7.1"
    },
    "kernelspec": {
      "name": "python3",
      "display_name": "Python 3"
    },
    "accelerator": "GPU"
  },
  "cells": [
    {
      "cell_type": "markdown",
      "metadata": {
        "id": "view-in-github",
        "colab_type": "text"
      },
      "source": [
        "<a href=\"https://colab.research.google.com/github/hrumst/ML/blob/master/dqn_pong__________2.ipynb\" target=\"_parent\"><img src=\"https://colab.research.google.com/assets/colab-badge.svg\" alt=\"Open In Colab\"/></a>"
      ]
    },
    {
      "cell_type": "code",
      "metadata": {
        "id": "ipwdFHUVB5qG",
        "colab_type": "code",
        "outputId": "8a7dafe2-3710-4b0c-8991-fc133f7f666d",
        "colab": {
          "base_uri": "https://localhost:8080/",
          "height": 34
        }
      },
      "source": [
        "import time\n",
        "import random\n",
        "import numpy as np\n",
        "\n",
        "import gym\n",
        "\n",
        "import matplotlib.pyplot as plt\n",
        "%matplotlib inline\n",
        "\n",
        "gym.__version__"
      ],
      "execution_count": 1,
      "outputs": [
        {
          "output_type": "execute_result",
          "data": {
            "text/plain": [
              "'0.15.4'"
            ]
          },
          "metadata": {
            "tags": []
          },
          "execution_count": 1
        }
      ]
    },
    {
      "cell_type": "markdown",
      "metadata": {
        "id": "1WoSzJUgB5qJ",
        "colab_type": "text"
      },
      "source": [
        "## Load GYM environment"
      ]
    },
    {
      "cell_type": "code",
      "metadata": {
        "scrolled": false,
        "id": "RO8UWiE4B5qK",
        "colab_type": "code",
        "outputId": "e732cc32-6109-410d-d8ce-cc452f67f5b5",
        "colab": {
          "base_uri": "https://localhost:8080/",
          "height": 51
        }
      },
      "source": [
        "env = gym.make('Pong-v0')\n",
        "\n",
        "STATE_SHAPE = env.observation_space.shape\n",
        "NUM_ACTIONS = env.action_space.n\n",
        "\n",
        "print('Actions: {}'.format(NUM_ACTIONS))\n",
        "print('States shape: {}'.format(STATE_SHAPE))"
      ],
      "execution_count": 2,
      "outputs": [
        {
          "output_type": "stream",
          "text": [
            "Actions: 6\n",
            "States shape: (210, 160, 3)\n"
          ],
          "name": "stdout"
        }
      ]
    },
    {
      "cell_type": "code",
      "metadata": {
        "id": "5tcQQwNh7nUZ",
        "colab_type": "code",
        "outputId": "b4ef045d-64fa-4f03-f738-8636a2b139b2",
        "colab": {
          "base_uri": "https://localhost:8080/",
          "height": 136
        }
      },
      "source": [
        "env.__dict__"
      ],
      "execution_count": 3,
      "outputs": [
        {
          "output_type": "execute_result",
          "data": {
            "text/plain": [
              "{'_elapsed_steps': None,\n",
              " '_max_episode_steps': 10000,\n",
              " 'action_space': Discrete(6),\n",
              " 'env': <gym.envs.atari.atari_env.AtariEnv at 0x7f7eb39b8cf8>,\n",
              " 'metadata': {'render.modes': ['human', 'rgb_array']},\n",
              " 'observation_space': Box(210, 160, 3),\n",
              " 'reward_range': (-inf, inf)}"
            ]
          },
          "metadata": {
            "tags": []
          },
          "execution_count": 3
        }
      ]
    },
    {
      "cell_type": "code",
      "metadata": {
        "id": "JNiSdKeo8I4O",
        "colab_type": "code",
        "outputId": "e48ea44d-2bf3-4d7c-fac9-f5e83f73ed75",
        "colab": {
          "base_uri": "https://localhost:8080/",
          "height": 34
        }
      },
      "source": [
        "env.observation_space.shape[0]"
      ],
      "execution_count": 4,
      "outputs": [
        {
          "output_type": "execute_result",
          "data": {
            "text/plain": [
              "210"
            ]
          },
          "metadata": {
            "tags": []
          },
          "execution_count": 4
        }
      ]
    },
    {
      "cell_type": "markdown",
      "metadata": {
        "id": "cHaEq-ExGjp5",
        "colab_type": "text"
      },
      "source": [
        "## Example of a state"
      ]
    },
    {
      "cell_type": "code",
      "metadata": {
        "id": "nUcBEkqTwWL1",
        "colab_type": "code",
        "outputId": "41d956f5-747a-477f-d6ec-89a763ec6bac",
        "colab": {
          "base_uri": "https://localhost:8080/",
          "height": 34
        }
      },
      "source": [
        "def epsilon_factory(arg_delta, min_num):\n",
        "    def get_epsilon_for_iteration(i):\n",
        "        y = (arg_delta ** -i) + min_num\n",
        "        return y if y <= 1.0 else 1.0\n",
        "    return get_epsilon_for_iteration\n",
        "\n",
        "epsilon_factory(1.005, .25)(100)"
      ],
      "execution_count": 5,
      "outputs": [
        {
          "output_type": "execute_result",
          "data": {
            "text/plain": [
              "0.8572867761711169"
            ]
          },
          "metadata": {
            "tags": []
          },
          "execution_count": 5
        }
      ]
    },
    {
      "cell_type": "code",
      "metadata": {
        "id": "HycCupurCLXM",
        "colab_type": "code",
        "outputId": "e1ee3763-1645-4a94-fb4b-8e0e82cb53ff",
        "colab": {
          "base_uri": "https://localhost:8080/",
          "height": 269
        }
      },
      "source": [
        "s = env.reset()\n",
        "_=plt.imshow(s)"
      ],
      "execution_count": 6,
      "outputs": [
        {
          "output_type": "display_data",
          "data": {
            "image/png": "[encoded data removed]",
            "text/plain": [
              "<Figure size 432x288 with 1 Axes>"
            ]
          },
          "metadata": {
            "tags": []
          }
        }
      ]
    },
    {
      "cell_type": "markdown",
      "metadata": {
        "id": "JUSl-luBMors",
        "colab_type": "text"
      },
      "source": [
        "## DQN"
      ]
    },
    {
      "cell_type": "code",
      "metadata": {
        "id": "nEaVg2BuD0Mh",
        "colab_type": "code",
        "colab": {}
      },
      "source": [
        "# Train a DQN model here\n",
        "\n",
        "def to_grayscale(img):\n",
        "    return np.mean(img, axis=2).astype(np.uint8)\n",
        "\n",
        "def downsample(img):\n",
        "    return img[::2, ::2]\n",
        "\n",
        "def preprocess(img):\n",
        "    return to_grayscale(downsample(img)).reshape(105,80,1)"
      ],
      "execution_count": 0,
      "outputs": []
    },
    {
      "cell_type": "code",
      "metadata": {
        "id": "ZhAMpnBPAZHl",
        "colab_type": "code",
        "outputId": "0eb42ea8-3af1-4d47-a2c1-38148cb6c7c9",
        "colab": {
          "base_uri": "https://localhost:8080/",
          "height": 34
        }
      },
      "source": [
        "# env.reset()\n",
        "# env.render()\n",
        "# env.step(env.action_space.sample())\n",
        "state = env.step(2)[0]\n",
        "state.shape"
      ],
      "execution_count": 8,
      "outputs": [
        {
          "output_type": "execute_result",
          "data": {
            "text/plain": [
              "(210, 160, 3)"
            ]
          },
          "metadata": {
            "tags": []
          },
          "execution_count": 8
        }
      ]
    },
    {
      "cell_type": "code",
      "metadata": {
        "id": "q19OOSZDDj4i",
        "colab_type": "code",
        "outputId": "9658b4b3-20a3-43d7-e0f7-96ecd3724389",
        "colab": {
          "base_uri": "https://localhost:8080/",
          "height": 34
        }
      },
      "source": [
        "state = preprocess(state)\n",
        "state.shape"
      ],
      "execution_count": 9,
      "outputs": [
        {
          "output_type": "execute_result",
          "data": {
            "text/plain": [
              "(105, 80, 1)"
            ]
          },
          "metadata": {
            "tags": []
          },
          "execution_count": 9
        }
      ]
    },
    {
      "cell_type": "code",
      "metadata": {
        "id": "bUmtDO5zM5KG",
        "colab_type": "code",
        "outputId": "efc58142-eaa6-4f79-da2f-c00f6ec999ce",
        "colab": {
          "base_uri": "https://localhost:8080/",
          "height": 34
        }
      },
      "source": [
        "stateA = state\n",
        "a = stateA\n",
        "a = np.append(a, stateA, axis=2)\n",
        "a = np.append(a, stateA, axis=2)\n",
        "a = np.append(a, stateA, axis=2)\n",
        "a.shape"
      ],
      "execution_count": 10,
      "outputs": [
        {
          "output_type": "execute_result",
          "data": {
            "text/plain": [
              "(105, 80, 4)"
            ]
          },
          "metadata": {
            "tags": []
          },
          "execution_count": 10
        }
      ]
    },
    {
      "cell_type": "code",
      "metadata": {
        "id": "cAea9vmpiwzw",
        "colab_type": "code",
        "colab": {}
      },
      "source": [
        "UP_ACTION = 2\n",
        "DOWN_ACTION = 3\n",
        "actions = np.array([UP_ACTION, DOWN_ACTION])"
      ],
      "execution_count": 0,
      "outputs": []
    },
    {
      "cell_type": "code",
      "metadata": {
        "id": "kAg6k47P9G1r",
        "colab_type": "code",
        "outputId": "1680e9d8-30ab-4b54-d342-27663f517786",
        "colab": {
          "base_uri": "https://localhost:8080/",
          "height": 491
        }
      },
      "source": [
        "import keras\n",
        "from keras.layers import Input, Lambda, Dense, Multiply, Conv2D\n",
        "from keras.layers.convolutional import Convolution2D\n",
        "from keras.layers.core import Flatten\n",
        "from keras.models import Model\n",
        "\n",
        "def atari_model(n_actions):\n",
        "    ATARI_SHAPE = (105, 80, 4)\n",
        "\n",
        "    # With the functional API we need to define the inputs.\n",
        "    frames_input = keras.layers.Input(ATARI_SHAPE, name='frames')\n",
        "    actions_input = keras.layers.Input((n_actions,), name='mask')\n",
        "\n",
        "    # Assuming that the input frames are still encoded from 0 to 255. Transforming to [0, 1].\n",
        "    normalized = keras.layers.Lambda(lambda x: x / 255.0)(frames_input)\n",
        "    \n",
        "    # \"The first hidden layer convolves 16 8×8 filters with stride 4 with the input image and applies a rectifier nonlinearity.\"\n",
        "    conv_1 = Conv2D(16, (4, 4), subsample=(4, 4), activation='relu', name='conv_1')(normalized)\n",
        "    # \"The second hidden layer convolves 32 4×4 filters with stride 2, again followed by a rectifier nonlinearity.\"\n",
        "    conv_2 = Conv2D(32, (2, 2), activation='relu', name='conv_2')(conv_1)\n",
        "    # Flattening the second convolutional layer.\n",
        "    conv_flattened = keras.layers.core.Flatten()(conv_2)\n",
        "    # \"The final hidden layer is fully-connected and consists of 256 rectifier units.\"\n",
        "    hidden = keras.layers.Dense(256, activation='relu')(conv_flattened)\n",
        "    # \"The output layer is a fully-connected linear layer with a single output for each valid action.\"\n",
        "    output = keras.layers.Dense(n_actions)(hidden)\n",
        "    # Finally, we multiply the output by the mask!\n",
        "    filtered_output = Multiply()([output, actions_input])\n",
        "\n",
        "    model = keras.models.Model(input=[frames_input, actions_input], output=filtered_output)\n",
        "    optimizer = optimizer=keras.optimizers.RMSprop(lr=0.00025, rho=0.95, epsilon=0.01)\n",
        "    model.compile(optimizer, loss='mse')\n",
        "\n",
        "    return model\n",
        "\n",
        "def q_eval(model, frames_input):\n",
        "    p_result = model.predict([[frames_input], [np.ones(actions.shape)]])\n",
        "    return p_result\n",
        "\n",
        "model = atari_model(2)\n",
        "q_eval(model, a)"
      ],
      "execution_count": 12,
      "outputs": [
        {
          "output_type": "stream",
          "text": [
            "Using TensorFlow backend.\n"
          ],
          "name": "stderr"
        },
        {
          "output_type": "display_data",
          "data": {
            "text/html": [
              "<p style=\"color: red;\">\n",
              "The default version of TensorFlow in Colab will soon switch to TensorFlow 2.x.<br>\n",
              "We recommend you <a href=\"https://www.tensorflow.org/guide/migrate\" target=\"_blank\">upgrade</a> now \n",
              "or ensure your notebook will continue to use TensorFlow 1.x via the <code>%tensorflow_version 1.x</code> magic:\n",
              "<a href=\"https://colab.research.google.com/notebooks/tensorflow_version.ipynb\" target=\"_blank\">more info</a>.</p>\n"
            ],
            "text/plain": [
              "<IPython.core.display.HTML object>"
            ]
          },
          "metadata": {
            "tags": []
          }
        },
        {
          "output_type": "stream",
          "text": [
            "WARNING:tensorflow:From /usr/local/lib/python3.6/dist-packages/keras/backend/tensorflow_backend.py:541: The name tf.placeholder is deprecated. Please use tf.compat.v1.placeholder instead.\n",
            "\n",
            "WARNING:tensorflow:From /usr/local/lib/python3.6/dist-packages/keras/backend/tensorflow_backend.py:66: The name tf.get_default_graph is deprecated. Please use tf.compat.v1.get_default_graph instead.\n",
            "\n",
            "WARNING:tensorflow:From /usr/local/lib/python3.6/dist-packages/keras/backend/tensorflow_backend.py:4432: The name tf.random_uniform is deprecated. Please use tf.random.uniform instead.\n",
            "\n",
            "WARNING:tensorflow:From /usr/local/lib/python3.6/dist-packages/keras/optimizers.py:793: The name tf.train.Optimizer is deprecated. Please use tf.compat.v1.train.Optimizer instead.\n",
            "\n",
            "WARNING:tensorflow:From /usr/local/lib/python3.6/dist-packages/keras/backend/tensorflow_backend.py:3005: The name tf.Session is deprecated. Please use tf.compat.v1.Session instead.\n",
            "\n",
            "WARNING:tensorflow:From /usr/local/lib/python3.6/dist-packages/keras/backend/tensorflow_backend.py:190: The name tf.get_default_session is deprecated. Please use tf.compat.v1.get_default_session instead.\n",
            "\n",
            "WARNING:tensorflow:From /usr/local/lib/python3.6/dist-packages/keras/backend/tensorflow_backend.py:197: The name tf.ConfigProto is deprecated. Please use tf.compat.v1.ConfigProto instead.\n",
            "\n"
          ],
          "name": "stdout"
        },
        {
          "output_type": "stream",
          "text": [
            "/usr/local/lib/python3.6/dist-packages/ipykernel_launcher.py:18: UserWarning: Update your `Conv2D` call to the Keras 2 API: `Conv2D(16, (4, 4), activation=\"relu\", name=\"conv_1\", strides=(4, 4))`\n",
            "/usr/local/lib/python3.6/dist-packages/ipykernel_launcher.py:30: UserWarning: Update your `Model` call to the Keras 2 API: `Model(inputs=[<tf.Tenso..., outputs=Tensor(\"mu...)`\n"
          ],
          "name": "stderr"
        },
        {
          "output_type": "stream",
          "text": [
            "WARNING:tensorflow:From /usr/local/lib/python3.6/dist-packages/keras/backend/tensorflow_backend.py:207: The name tf.global_variables is deprecated. Please use tf.compat.v1.global_variables instead.\n",
            "\n",
            "WARNING:tensorflow:From /usr/local/lib/python3.6/dist-packages/keras/backend/tensorflow_backend.py:216: The name tf.is_variable_initialized is deprecated. Please use tf.compat.v1.is_variable_initialized instead.\n",
            "\n",
            "WARNING:tensorflow:From /usr/local/lib/python3.6/dist-packages/keras/backend/tensorflow_backend.py:223: The name tf.variables_initializer is deprecated. Please use tf.compat.v1.variables_initializer instead.\n",
            "\n"
          ],
          "name": "stdout"
        },
        {
          "output_type": "execute_result",
          "data": {
            "text/plain": [
              "array([[ 0.35172024, -0.17788865]], dtype=float32)"
            ]
          },
          "metadata": {
            "tags": []
          },
          "execution_count": 12
        }
      ]
    },
    {
      "cell_type": "code",
      "metadata": {
        "id": "8IKRRutttJw1",
        "colab_type": "code",
        "colab": {}
      },
      "source": [
        "\n",
        "class RingBuf:\n",
        "    def __init__(self):\n",
        "        # Pro-tip: when implementing a ring buffer, always allocate one extra element,\n",
        "        # this way, self.start == self.end always means the buffer is EMPTY, whereas\n",
        "        # if you allocate exactly the right number of elements, it could also mean\n",
        "        # the buffer is full. This greatly simplifies the rest of the code.\n",
        "        self.data = []\n",
        "        self.start = 0\n",
        "        self.end = 0\n",
        "        \n",
        "    def append(self, element):\n",
        "        self.data.append(element)\n",
        "\n",
        "    def sample_batch(self, size):\n",
        "        if len(self.data) < size:\n",
        "            return self.data\n",
        "        limit = random.randint(0, len(self.data) - size)\n",
        "        return self.data[limit:limit+size]\n",
        "        \n",
        "    def __getitem__(self, idx):\n",
        "        return self.data[(self.start + idx) % len(self.data)]\n",
        "    \n",
        "    def __len__(self):\n",
        "        if self.end < self.start:\n",
        "            return self.end + len(self.data) - self.start\n",
        "        else:\n",
        "            return self.end - self.start\n",
        "        \n",
        "    def __iter__(self):\n",
        "        for i in range(len(self)):\n",
        "            yield self[i]\n",
        "\n",
        "# rbf = RingBuf(40)\n",
        "# for i in range(40):\n",
        "#     rbf.append((1,2,3))\n",
        "#     print(rbf.sample_batch(32))\n"
      ],
      "execution_count": 0,
      "outputs": []
    },
    {
      "cell_type": "code",
      "metadata": {
        "id": "lMKyAI5GLN1w",
        "colab_type": "code",
        "outputId": "5378b9f5-72f9-40ab-8e6c-a73d3323cf83",
        "colab": {
          "base_uri": "https://localhost:8080/",
          "height": 752
        }
      },
      "source": [
        "def choose_best_action(model, state):\n",
        "    return model.predict([state, np.ones(actions.shape)])\n",
        "    \n",
        "def q_iteration(env, model, init_states, iteration, memory, get_epsilon_for_iteration):\n",
        "    # Choose epsilon based on the iteration\n",
        "    epsilon = get_epsilon_for_iteration(iteration)\n",
        "\n",
        "    # Choose the action \n",
        "    if random.random() < epsilon:\n",
        "        action = np.random.choice([2, 3])\n",
        "        print('randa ction', action)\n",
        "    else:\n",
        "        action = actions[np.argmax(q_eval(model, init_states))]\n",
        "\n",
        "    # print(action)\n",
        "\n",
        "    # Play one game iteration (note: according to the next paper, you should actually play 4 times here)\n",
        "    new_state, reward, is_done, _ = env.step(action)\n",
        "    new_state = preprocess(new_state)\n",
        "    memory.append((state, action, new_state, reward, is_done))\n",
        "\n",
        "    # Sample and fit\n",
        "    batch = memory.sample_batch(4)\n",
        "    fit_batch(model, batch, .9)\n",
        "    return (new_state, reward)\n",
        "\n",
        "def fit_batch(model, batch, gamma):\n",
        "    # print('iter start')\n",
        "    # start_states, actions, rewards, next_states\n",
        "    start_states = batch[0][0]\n",
        "    next_states = batch[0][2]\n",
        "    rewardes = [batch[0][3]]\n",
        "\n",
        "    for batch_item in batch[1:]:\n",
        "        (state, action, new_state, reward, is_done) = batch_item\n",
        "        start_states = np.append(start_states, state, axis=2)\n",
        "        next_states = np.append(next_states, new_state, axis=2)\n",
        "        rewardes.append(reward)\n",
        "\n",
        "    avg_reward = np.average(rewardes)\n",
        "\n",
        "    # First, predict the Q values of the next states. Note how we are passing ones as the mask.\n",
        "    # print('eval:', start_states.shape)\n",
        "    next_Q_values = q_eval(model, start_states)\n",
        "   \n",
        "    # Make target vector\n",
        "    targets = np.zeros(2)\n",
        "    maxQi = np.argmax(next_Q_values)\n",
        "    targets[maxQi] = avg_reward + gamma * next_Q_values[0][maxQi]\n",
        "\n",
        "    # print('inti:', next_states.shape)\n",
        "    model.fit([[next_states], [np.ones(actions.shape)]], [[targets]], epochs=1, verbose=0)\n",
        "    # print('iter finish')\n",
        "\n",
        "def q_init(env, memory):\n",
        "    state = preprocess(env.reset())\n",
        "    init_states = state\n",
        "    for i in range(3):\n",
        "        action = env.action_space.sample()\n",
        "        new_state, reward, is_done, _ = env.step(action)\n",
        "        new_state = preprocess(new_state)\n",
        "        init_states = np.append(init_states, new_state, axis=2)\n",
        "\n",
        "        memory.append((state, action, new_state, reward, is_done))\n",
        "        state = new_state\n",
        "    return init_states\n",
        "\n",
        "\n",
        "memory = RingBuf()\n",
        "get_epsilon_for_iteration = epsilon_factory(1.005, .25)\n",
        "total_reward = 0\n",
        "model = atari_model(2)\n",
        "\n",
        "states = q_init(env, memory)\n",
        "for i in range(5000):\n",
        "    q_result = q_iteration(env, model, states, i, memory, get_epsilon_for_iteration)\n",
        "    states = np.delete(states, 0, axis=2)\n",
        "    states = np.append(states, q_result[0], axis=2)\n",
        "\n",
        "    total_reward += q_result[1]\n",
        "\n",
        "    if i % 50 == 0:\n",
        "        print(i, ',', total_reward)"
      ],
      "execution_count": 94,
      "outputs": [
        {
          "output_type": "stream",
          "text": [
            "randa ction 2\n"
          ],
          "name": "stdout"
        },
        {
          "output_type": "stream",
          "text": [
            "/usr/local/lib/python3.6/dist-packages/ipykernel_launcher.py:18: UserWarning: Update your `Conv2D` call to the Keras 2 API: `Conv2D(16, (4, 4), activation=\"relu\", name=\"conv_1\", strides=(4, 4))`\n",
            "/usr/local/lib/python3.6/dist-packages/ipykernel_launcher.py:30: UserWarning: Update your `Model` call to the Keras 2 API: `Model(inputs=[<tf.Tenso..., outputs=Tensor(\"mu...)`\n"
          ],
          "name": "stderr"
        },
        {
          "output_type": "error",
          "ename": "ValueError",
          "evalue": "ignored",
          "traceback": [
            "\u001b[0;31m---------------------------------------------------------------------------\u001b[0m",
            "\u001b[0;31mValueError\u001b[0m                                Traceback (most recent call last)",
            "\u001b[0;32m<ipython-input-94-571b58c9f420>\u001b[0m in \u001b[0;36m<module>\u001b[0;34m()\u001b[0m\n\u001b[1;32m     74\u001b[0m \u001b[0mstates\u001b[0m \u001b[0;34m=\u001b[0m \u001b[0mq_init\u001b[0m\u001b[0;34m(\u001b[0m\u001b[0menv\u001b[0m\u001b[0;34m,\u001b[0m \u001b[0mmemory\u001b[0m\u001b[0;34m)\u001b[0m\u001b[0;34m\u001b[0m\u001b[0;34m\u001b[0m\u001b[0m\n\u001b[1;32m     75\u001b[0m \u001b[0;32mfor\u001b[0m \u001b[0mi\u001b[0m \u001b[0;32min\u001b[0m \u001b[0mrange\u001b[0m\u001b[0;34m(\u001b[0m\u001b[0;36m5000\u001b[0m\u001b[0;34m)\u001b[0m\u001b[0;34m:\u001b[0m\u001b[0;34m\u001b[0m\u001b[0;34m\u001b[0m\u001b[0m\n\u001b[0;32m---> 76\u001b[0;31m     \u001b[0mq_result\u001b[0m \u001b[0;34m=\u001b[0m \u001b[0mq_iteration\u001b[0m\u001b[0;34m(\u001b[0m\u001b[0menv\u001b[0m\u001b[0;34m,\u001b[0m \u001b[0mmodel\u001b[0m\u001b[0;34m,\u001b[0m \u001b[0mstates\u001b[0m\u001b[0;34m,\u001b[0m \u001b[0mi\u001b[0m\u001b[0;34m,\u001b[0m \u001b[0mmemory\u001b[0m\u001b[0;34m,\u001b[0m \u001b[0mget_epsilon_for_iteration\u001b[0m\u001b[0;34m)\u001b[0m\u001b[0;34m\u001b[0m\u001b[0;34m\u001b[0m\u001b[0m\n\u001b[0m\u001b[1;32m     77\u001b[0m     \u001b[0mstates\u001b[0m \u001b[0;34m=\u001b[0m \u001b[0mnp\u001b[0m\u001b[0;34m.\u001b[0m\u001b[0mdelete\u001b[0m\u001b[0;34m(\u001b[0m\u001b[0mstates\u001b[0m\u001b[0;34m,\u001b[0m \u001b[0;36m0\u001b[0m\u001b[0;34m,\u001b[0m \u001b[0maxis\u001b[0m\u001b[0;34m=\u001b[0m\u001b[0;36m2\u001b[0m\u001b[0;34m)\u001b[0m\u001b[0;34m\u001b[0m\u001b[0;34m\u001b[0m\u001b[0m\n\u001b[1;32m     78\u001b[0m     \u001b[0mstates\u001b[0m \u001b[0;34m=\u001b[0m \u001b[0mnp\u001b[0m\u001b[0;34m.\u001b[0m\u001b[0mappend\u001b[0m\u001b[0;34m(\u001b[0m\u001b[0mstates\u001b[0m\u001b[0;34m,\u001b[0m \u001b[0mq_result\u001b[0m\u001b[0;34m[\u001b[0m\u001b[0;36m0\u001b[0m\u001b[0;34m]\u001b[0m\u001b[0;34m,\u001b[0m \u001b[0maxis\u001b[0m\u001b[0;34m=\u001b[0m\u001b[0;36m2\u001b[0m\u001b[0;34m)\u001b[0m\u001b[0;34m\u001b[0m\u001b[0;34m\u001b[0m\u001b[0m\n",
            "\u001b[0;32m<ipython-input-94-571b58c9f420>\u001b[0m in \u001b[0;36mq_iteration\u001b[0;34m(env, model, init_states, iteration, memory, get_epsilon_for_iteration)\u001b[0m\n\u001b[1;32m     22\u001b[0m     \u001b[0;31m# Sample and fit\u001b[0m\u001b[0;34m\u001b[0m\u001b[0;34m\u001b[0m\u001b[0;34m\u001b[0m\u001b[0m\n\u001b[1;32m     23\u001b[0m     \u001b[0mbatch\u001b[0m \u001b[0;34m=\u001b[0m \u001b[0mmemory\u001b[0m\u001b[0;34m.\u001b[0m\u001b[0msample_batch\u001b[0m\u001b[0;34m(\u001b[0m\u001b[0;36m4\u001b[0m\u001b[0;34m)\u001b[0m\u001b[0;34m\u001b[0m\u001b[0;34m\u001b[0m\u001b[0m\n\u001b[0;32m---> 24\u001b[0;31m     \u001b[0mfit_batch\u001b[0m\u001b[0;34m(\u001b[0m\u001b[0mmodel\u001b[0m\u001b[0;34m,\u001b[0m \u001b[0mbatch\u001b[0m\u001b[0;34m,\u001b[0m \u001b[0;36m.9\u001b[0m\u001b[0;34m)\u001b[0m\u001b[0;34m\u001b[0m\u001b[0;34m\u001b[0m\u001b[0m\n\u001b[0m\u001b[1;32m     25\u001b[0m     \u001b[0;32mreturn\u001b[0m \u001b[0;34m(\u001b[0m\u001b[0mnew_state\u001b[0m\u001b[0;34m,\u001b[0m \u001b[0mreward\u001b[0m\u001b[0;34m)\u001b[0m\u001b[0;34m\u001b[0m\u001b[0;34m\u001b[0m\u001b[0m\n\u001b[1;32m     26\u001b[0m \u001b[0;34m\u001b[0m\u001b[0m\n",
            "\u001b[0;32m<ipython-input-94-571b58c9f420>\u001b[0m in \u001b[0;36mfit_batch\u001b[0;34m(model, batch, gamma)\u001b[0m\n\u001b[1;32m     34\u001b[0m     \u001b[0;32mfor\u001b[0m \u001b[0mbatch_item\u001b[0m \u001b[0;32min\u001b[0m \u001b[0mbatch\u001b[0m\u001b[0;34m[\u001b[0m\u001b[0;36m1\u001b[0m\u001b[0;34m:\u001b[0m\u001b[0;34m]\u001b[0m\u001b[0;34m:\u001b[0m\u001b[0;34m\u001b[0m\u001b[0;34m\u001b[0m\u001b[0m\n\u001b[1;32m     35\u001b[0m         \u001b[0;34m(\u001b[0m\u001b[0mstate\u001b[0m\u001b[0;34m,\u001b[0m \u001b[0maction\u001b[0m\u001b[0;34m,\u001b[0m \u001b[0mnew_state\u001b[0m\u001b[0;34m,\u001b[0m \u001b[0mreward\u001b[0m\u001b[0;34m,\u001b[0m \u001b[0mis_done\u001b[0m\u001b[0;34m)\u001b[0m \u001b[0;34m=\u001b[0m \u001b[0mbatch_item\u001b[0m\u001b[0;34m\u001b[0m\u001b[0;34m\u001b[0m\u001b[0m\n\u001b[0;32m---> 36\u001b[0;31m         \u001b[0mstart_states\u001b[0m \u001b[0;34m=\u001b[0m \u001b[0mnp\u001b[0m\u001b[0;34m.\u001b[0m\u001b[0mappend\u001b[0m\u001b[0;34m(\u001b[0m\u001b[0mstart_states\u001b[0m\u001b[0;34m,\u001b[0m \u001b[0mstate\u001b[0m\u001b[0;34m,\u001b[0m \u001b[0maxis\u001b[0m\u001b[0;34m=\u001b[0m\u001b[0;36m2\u001b[0m\u001b[0;34m)\u001b[0m\u001b[0;34m\u001b[0m\u001b[0;34m\u001b[0m\u001b[0m\n\u001b[0m\u001b[1;32m     37\u001b[0m         \u001b[0mnext_states\u001b[0m \u001b[0;34m=\u001b[0m \u001b[0mnp\u001b[0m\u001b[0;34m.\u001b[0m\u001b[0mappend\u001b[0m\u001b[0;34m(\u001b[0m\u001b[0mnext_states\u001b[0m\u001b[0;34m,\u001b[0m \u001b[0mnew_state\u001b[0m\u001b[0;34m,\u001b[0m \u001b[0maxis\u001b[0m\u001b[0;34m=\u001b[0m\u001b[0;36m2\u001b[0m\u001b[0;34m)\u001b[0m\u001b[0;34m\u001b[0m\u001b[0;34m\u001b[0m\u001b[0m\n\u001b[1;32m     38\u001b[0m         \u001b[0mrewardes\u001b[0m\u001b[0;34m.\u001b[0m\u001b[0mappend\u001b[0m\u001b[0;34m(\u001b[0m\u001b[0mreward\u001b[0m\u001b[0;34m)\u001b[0m\u001b[0;34m\u001b[0m\u001b[0;34m\u001b[0m\u001b[0m\n",
            "\u001b[0;32m<__array_function__ internals>\u001b[0m in \u001b[0;36mappend\u001b[0;34m(*args, **kwargs)\u001b[0m\n",
            "\u001b[0;32m/usr/local/lib/python3.6/dist-packages/numpy/lib/function_base.py\u001b[0m in \u001b[0;36mappend\u001b[0;34m(arr, values, axis)\u001b[0m\n\u001b[1;32m   4698\u001b[0m         \u001b[0mvalues\u001b[0m \u001b[0;34m=\u001b[0m \u001b[0mravel\u001b[0m\u001b[0;34m(\u001b[0m\u001b[0mvalues\u001b[0m\u001b[0;34m)\u001b[0m\u001b[0;34m\u001b[0m\u001b[0;34m\u001b[0m\u001b[0m\n\u001b[1;32m   4699\u001b[0m         \u001b[0maxis\u001b[0m \u001b[0;34m=\u001b[0m \u001b[0marr\u001b[0m\u001b[0;34m.\u001b[0m\u001b[0mndim\u001b[0m\u001b[0;34m-\u001b[0m\u001b[0;36m1\u001b[0m\u001b[0;34m\u001b[0m\u001b[0;34m\u001b[0m\u001b[0m\n\u001b[0;32m-> 4700\u001b[0;31m     \u001b[0;32mreturn\u001b[0m \u001b[0mconcatenate\u001b[0m\u001b[0;34m(\u001b[0m\u001b[0;34m(\u001b[0m\u001b[0marr\u001b[0m\u001b[0;34m,\u001b[0m \u001b[0mvalues\u001b[0m\u001b[0;34m)\u001b[0m\u001b[0;34m,\u001b[0m \u001b[0maxis\u001b[0m\u001b[0;34m=\u001b[0m\u001b[0maxis\u001b[0m\u001b[0;34m)\u001b[0m\u001b[0;34m\u001b[0m\u001b[0;34m\u001b[0m\u001b[0m\n\u001b[0m\u001b[1;32m   4701\u001b[0m \u001b[0;34m\u001b[0m\u001b[0m\n\u001b[1;32m   4702\u001b[0m \u001b[0;34m\u001b[0m\u001b[0m\n",
            "\u001b[0;32m<__array_function__ internals>\u001b[0m in \u001b[0;36mconcatenate\u001b[0;34m(*args, **kwargs)\u001b[0m\n",
            "\u001b[0;31mValueError\u001b[0m: all the input array dimensions for the concatenation axis must match exactly, but along dimension 0, the array at index 0 has size 105 and the array at index 1 has size 210"
          ]
        }
      ]
    },
    {
      "cell_type": "markdown",
      "metadata": {
        "id": "IiOBPXjVGnLR",
        "colab_type": "text"
      },
      "source": [
        "## Virtual display and video recording for Colab"
      ]
    },
    {
      "cell_type": "markdown",
      "metadata": {
        "id": "4sx3L1j9B5qn",
        "colab_type": "text"
      },
      "source": [
        "## Run simulation"
      ]
    },
    {
      "cell_type": "code",
      "metadata": {
        "id": "hO8BwhIQbzOD",
        "colab_type": "code",
        "colab": {
          "base_uri": "https://localhost:8080/",
          "height": 34
        },
        "outputId": "f1b83976-6b2a-40af-8f74-7bfe2bd7946b"
      },
      "source": [
        "np.random.choice([9, 8], p=[0.5, 0.5])"
      ],
      "execution_count": 78,
      "outputs": [
        {
          "output_type": "execute_result",
          "data": {
            "text/plain": [
              "8"
            ]
          },
          "metadata": {
            "tags": []
          },
          "execution_count": 78
        }
      ]
    },
    {
      "cell_type": "code",
      "metadata": {
        "id": "GhSeQkSBB5qo",
        "colab_type": "code",
        "outputId": "d8cf32fb-9f1c-4801-c732-968c0b4f012f",
        "colab": {
          "base_uri": "https://localhost:8080/",
          "height": 105
        }
      },
      "source": [
        "RECORD_VIDEO = True\n",
        "\n",
        "if RECORD_VIDEO:\n",
        "  \n",
        "    !pip install pyvirtualdisplay > /dev/null 2>&1\n",
        "    !apt-get install -y xvfb python-opengl ffmpeg > /dev/null 2>&1\n",
        "\n",
        "    from pyvirtualdisplay import Display\n",
        "    display = Display(visible=0, size=(1400, 900))\n",
        "    display.start()\n",
        "\n",
        "if RECORD_VIDEO:\n",
        "    from gym.wrappers import Monitor\n",
        "    env_sim = Monitor(env, './video', force=True)\n",
        "else:\n",
        "    env_sim = env\n",
        "\n",
        "init_state = env_sim.reset()\n",
        "totalReward = 0\n",
        "\n",
        "UP_ACTION = 2\n",
        "DOWN_ACTION = 3\n",
        "\n",
        "env_states = preprocess(init_state)\n",
        "for i in range(3):\n",
        "    state, reward, done, _ = env_sim.step(3)\n",
        "    env_states = np.append(env_states, preprocess(state), axis=2)\n",
        "\n",
        "print(env_states.shape)\n",
        "actions = []\n",
        "\n",
        "for _ in range(1000):\n",
        "    env_sim.render()\n",
        "    # q = q_eval(model, env_states)\n",
        "    # print(actions[np.argmax(q[0])])\n",
        "    # state, reward, done, _ = env_sim.step(actions[np.argmax(q[0])])\n",
        "\n",
        "    # action = env.action_space.sample()\n",
        "    action = np.random.choice([2, 3])\n",
        "    state, reward, done, _ = env_sim.step(action)\n",
        "    actions.append(action)\n",
        "    env_states = np.append(env_states, preprocess(state), axis=2)\n",
        "\n",
        "    env_states = np.delete(env_states, 0, axis=2)\n",
        "\n",
        "    totalReward += reward\n",
        "    if done:        \n",
        "        break\n",
        "    \n",
        "    if not RECORD_VIDEO:\n",
        "        time.sleep(1./30)\n",
        "        \n",
        "env_sim.close()\n",
        "\n",
        "print('Total reward = {}'.format(totalReward))\n",
        "print(actions)"
      ],
      "execution_count": 91,
      "outputs": [
        {
          "output_type": "stream",
          "text": [
            "xdpyinfo was not found, X start can not be checked! Please install xdpyinfo!\n"
          ],
          "name": "stderr"
        },
        {
          "output_type": "stream",
          "text": [
            "(105, 80, 4)\n",
            "Total reward = -15.0\n",
            "[2, 2, 3, 2, 2, 3, 3, 2, 3, 3, 3, 3, 3, 3, 3, 3, 2, 3, 3, 2, 3, 3, 3, 2, 3, 3, 2, 2, 2, 2, 3, 3, 3, 3, 2, 3, 3, 2, 3, 3, 3, 3, 3, 2, 3, 3, 3, 2, 2, 3, 3, 3, 3, 3, 2, 2, 3, 3, 3, 3, 3, 2, 3, 2, 2, 3, 2, 2, 2, 2, 2, 2, 2, 2, 2, 3, 3, 2, 3, 3, 3, 2, 2, 3, 3, 3, 3, 2, 2, 3, 3, 3, 3, 3, 3, 2, 3, 2, 3, 3, 2, 3, 3, 3, 3, 2, 3, 3, 3, 3, 3, 2, 3, 3, 2, 2, 3, 2, 2, 3, 2, 3, 3, 2, 3, 2, 3, 2, 2, 2, 2, 3, 2, 3, 2, 3, 3, 2, 3, 2, 3, 3, 3, 2, 2, 3, 2, 3, 3, 2, 3, 3, 2, 3, 2, 3, 3, 3, 2, 3, 3, 3, 3, 2, 3, 3, 3, 3, 2, 2, 3, 2, 3, 2, 3, 3, 3, 2, 3, 3, 2, 3, 3, 3, 3, 3, 3, 3, 3, 2, 2, 2, 2, 3, 2, 2, 3, 3, 3, 2, 2, 2, 3, 3, 2, 3, 3, 2, 2, 3, 2, 2, 3, 2, 3, 2, 3, 3, 3, 2, 2, 3, 3, 3, 2, 2, 3, 2, 3, 2, 2, 3, 2, 3, 3, 2, 2, 2, 3, 2, 2, 2, 2, 2, 3, 3, 3, 2, 3, 3, 3, 2, 3, 3, 2, 3, 2, 3, 2, 2, 2, 2, 3, 2, 2, 3, 2, 2, 3, 3, 2, 2, 2, 2, 3, 3, 2, 2, 3, 3, 3, 2, 2, 2, 2, 3, 2, 2, 3, 2, 2, 3, 3, 2, 2, 2, 2, 3, 3, 3, 3, 3, 2, 3, 3, 3, 3, 3, 3, 3, 3, 2, 3, 3, 3, 3, 2, 3, 3, 2, 2, 2, 3, 2, 3, 3, 3, 2, 2, 3, 2, 3, 2, 3, 3, 3, 2, 2, 3, 3, 3, 3, 2, 3, 3, 2, 3, 3, 2, 3, 3, 3, 3, 3, 2, 3, 3, 3, 2, 3, 3, 3, 2, 3, 3, 3, 2, 3, 3, 2, 3, 3, 3, 3, 2, 3, 3, 2, 3, 2, 3, 3, 3, 2, 3, 3, 2, 2, 2, 3, 3, 3, 2, 3, 2, 3, 2, 2, 2, 2, 2, 2, 3, 2, 2, 3, 2, 2, 3, 2, 3, 3, 3, 2, 2, 3, 3, 3, 3, 2, 2, 3, 2, 2, 2, 2, 3, 2, 2, 3, 2, 3, 2, 2, 3, 3, 3, 3, 2, 3, 2, 2, 2, 2, 3, 2, 3, 2, 3, 2, 3, 2, 3, 2, 3, 2, 2, 3, 2, 2, 3, 2, 3, 3, 2, 2, 2, 2, 2, 3, 2, 2, 2, 3, 3, 3, 3, 2, 3, 3, 2, 2, 3, 3, 2, 2, 2, 2, 2, 3, 2, 2, 2, 3, 2, 2, 2, 2, 3, 2, 3, 2, 3, 3, 2, 2, 2, 3, 3, 3, 2, 3, 3, 2, 3, 3, 2, 3, 2, 3, 2, 3, 3, 2, 3, 3, 2, 3, 3, 2, 2, 3, 3, 2, 3, 2, 3, 3, 3, 3, 2, 3, 2, 3, 2, 2, 3, 3, 2, 2, 3, 3, 3, 2, 3, 2, 3, 2, 3, 2, 2, 3, 3, 3, 3, 2, 2, 2, 2, 3, 3, 3, 2, 3, 2, 3, 3, 3, 3, 2, 3, 2, 3, 3, 2, 3, 3, 2, 2, 2, 2, 2, 2, 3, 2, 2, 2, 2, 2, 2, 2, 3, 2, 2, 2, 2, 2, 3, 3, 3, 2, 3, 2, 2, 2, 3, 2, 3, 3, 3, 3, 2, 3, 3, 3, 2, 3, 3, 3, 2, 2, 2, 2, 2, 3, 2, 3, 3, 3, 3, 3, 3, 3, 3, 3, 3, 2, 3, 2, 2, 3, 3, 3, 2, 3, 3, 2, 3, 3, 3, 2, 3, 2, 3, 2, 3, 3, 3, 2, 3, 2, 2, 3, 2, 3, 2, 3, 2, 3, 2, 3, 2, 2, 2, 2, 2, 3, 2, 2, 3, 3, 2, 2, 3, 2, 3, 3, 3, 3, 2, 2, 2, 2, 3, 2, 3, 2, 3, 2, 3, 2, 2, 2, 2, 3, 2, 2, 2, 2, 3, 3, 3, 3, 2, 3, 3, 3, 2, 3, 2, 2, 3, 2, 2, 2, 3, 2, 2, 3, 2, 2, 2, 2, 3, 3, 3, 2, 3, 3, 3, 2, 3, 2, 3, 2, 2, 2, 2, 2, 2, 2, 3, 3, 3, 3, 3, 3, 3, 2, 3, 2, 2, 2, 3, 2, 3, 2, 3, 3, 2, 3, 2, 3, 2, 3, 2, 3, 2, 3, 2, 3, 2, 3, 3, 2, 3, 3, 3, 2, 2, 2, 2, 2, 2, 2, 2, 3, 2, 2, 3, 3, 2, 2, 2, 2, 3, 2, 2, 2, 2, 2, 2, 3, 2, 2, 3, 2, 3, 2, 3, 3, 2, 2, 3, 2, 3, 3, 3, 2, 2, 3, 3, 3, 2, 2, 3, 3, 3, 2, 3, 2, 2, 3, 3, 2, 3, 2, 2, 2, 2, 3, 2, 3, 3, 2, 2, 3, 3, 2, 3, 2, 2, 2, 3, 2, 2, 2, 2, 3, 2, 3, 3, 3, 3, 3, 2, 2, 2, 2, 3, 2, 3, 2, 3, 3, 2, 3, 2, 2, 3, 3, 3, 3, 2, 2, 3, 2, 2, 2, 3, 3, 3, 2, 3, 2, 3, 3, 2, 2, 3, 2, 3, 3, 2, 3, 2, 2, 2, 2, 3, 3, 2, 2, 2, 3, 3, 3, 3, 3, 3, 2, 2, 2, 2, 3, 3, 3, 3, 2, 2, 3, 2, 2, 2, 3, 3, 3, 2, 3, 2, 2, 3, 3, 2, 2, 3, 3, 3, 2, 3, 2, 3, 3, 2, 3, 2, 3, 3, 3, 3, 2, 3, 2, 2, 3, 2, 2, 2, 3, 2, 2, 3, 3, 3, 3, 3, 2, 2, 2, 2]\n"
          ],
          "name": "stdout"
        }
      ]
    },
    {
      "cell_type": "markdown",
      "metadata": {
        "id": "oWteeIo8K2jR",
        "colab_type": "text"
      },
      "source": [
        "## Show the video"
      ]
    },
    {
      "cell_type": "code",
      "metadata": {
        "id": "yEb1-4mhEU0i",
        "colab_type": "code",
        "outputId": "73f7490a-5fab-42ec-f584-0b2267d05ce9",
        "colab": {
          "base_uri": "https://localhost:8080/",
          "height": 421
        }
      },
      "source": [
        "def show_video():\n",
        "    import glob\n",
        "    import io\n",
        "    import base64\n",
        "    from IPython.display import HTML\n",
        "    from IPython import display as ipythondisplay\n",
        "\n",
        "    mp4list = glob.glob('video/*.mp4')\n",
        "    if len(mp4list) > 0:\n",
        "        mp4 = mp4list[0]\n",
        "        video = io.open(mp4, 'r+b').read()\n",
        "        encoded = base64.b64encode(video)\n",
        "        ipythondisplay.display(HTML(data='''<video alt=\"test\" autoplay \n",
        "            loop controls style=\"height: 400px;\">\n",
        "            <source src=\"data:video/mp4;base64,{0}\" type=\"video/mp4\" />\n",
        "            </video>'''.format(encoded.decode('ascii'))))\n",
        "    else: \n",
        "        print(\"Could not find video\")\n",
        "    \n",
        "show_video()"
      ],
      "execution_count": 92,
      "outputs": [
        {
          "output_type": "display_data",
          "data": {
            "text/html": [
              "<video alt=\"test\" autoplay \n",
              "            loop controls style=\"height: 400px;\">\n",
              "            <source src=\"data:video/mp4;base64,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\" type=\"video/mp4\" />\n",
              "            </video>"
            ],
            "text/plain": [
              "<IPython.core.display.HTML object>"
            ]
          },
          "metadata": {
            "tags": []
          }
        }
      ]
    },
    {
      "cell_type": "code",
      "metadata": {
        "id": "j8eb7loItDM4",
        "colab_type": "code",
        "colab": {}
      },
      "source": [
        ""
      ],
      "execution_count": 0,
      "outputs": []
    }
  ]
}